{
 "cells": [
  {
   "cell_type": "code",
   "execution_count": null,
   "metadata": {},
   "outputs": [],
   "source": [
    "import anthropic\n",
    "import dotenv\n",
    "import base64"
   ]
  },
  {
   "cell_type": "code",
   "execution_count": 4,
   "metadata": {},
   "outputs": [],
   "source": [
    "\n",
    "anthropic_api_key = dotenv.get_key(dotenv_path=\".env\", key_to_get=\"ANTHROPIC_API_KEY\")\n",
    "if anthropic_api_key is None:\n",
    "    Exception(\"APi key not available\")\n"
   ]
  },
  {
   "cell_type": "code",
   "execution_count": 5,
   "metadata": {},
   "outputs": [],
   "source": [
    "MODEL_NAME='claude-3-5-sonnet-20241022'"
   ]
  },
  {
   "cell_type": "code",
   "execution_count": 6,
   "metadata": {},
   "outputs": [],
   "source": [
    "client = anthropic.Anthropic(api_key=anthropic_api_key)"
   ]
  },
  {
   "cell_type": "code",
   "execution_count": 7,
   "metadata": {},
   "outputs": [],
   "source": [
    "def get_base64_encoded_image(image_path):\n",
    "    with open(image_path, \"rb\") as image_file:\n",
    "        binary_data = image_file.read()\n",
    "        base_64_encoded_data = base64.b64encode(binary_data)\n",
    "        base64_string = base_64_encoded_data.decode('utf-8')\n",
    "        return base64_string"
   ]
  },
  {
   "cell_type": "code",
   "execution_count": 15,
   "metadata": {},
   "outputs": [],
   "source": [
    "def get_response(image_path: str):\n",
    "    message_list = [\n",
    "        {\n",
    "            \"role\": 'user',\n",
    "            \"content\": [\n",
    "                {\"type\": \"image\", \"source\": {\"type\": \"base64\", \"media_type\": \"image/png\", \"data\": get_base64_encoded_image(image_path=image_path)}},\n",
    "            ]\n",
    "        }\n",
    "    ]\n",
    "\n",
    "    response = client.messages.create(\n",
    "        model=MODEL_NAME,\n",
    "        max_tokens=2048,\n",
    "        messages=message_list,\n",
    "        system='You are a data scientist and you are working on a project to extract information from a diagram in json format. Which is compatiable with knowledge graph databases. Consider their shape and translate it\\'s purpose(process, decision, etc.) as it is important for the data extraction. only give the json format of the diagram.',\n",
    "    )\n",
    "    return response"
   ]
  },
  {
   "cell_type": "code",
   "execution_count": 16,
   "metadata": {},
   "outputs": [],
   "source": [
    "response = get_response(image_path='./images/image.png')"
   ]
  },
  {
   "cell_type": "code",
   "execution_count": 17,
   "metadata": {},
   "outputs": [
    {
     "name": "stdout",
     "output_type": "stream",
     "text": [
      "{\n",
      "  \"nodes\": [\n",
      "    {\n",
      "      \"id\": \"start\",\n",
      "      \"type\": \"terminator\",\n",
      "      \"label\": \"Start\"\n",
      "    },\n",
      "    {\n",
      "      \"id\": \"initialize\",\n",
      "      \"type\": \"process\",\n",
      "      \"label\": \"Initialize\"\n",
      "    },\n",
      "    {\n",
      "      \"id\": \"decision\",\n",
      "      \"type\": \"decision\",\n",
      "      \"label\": \"Decision\"\n",
      "    },\n",
      "    {\n",
      "      \"id\": \"process\",\n",
      "      \"type\": \"process\",\n",
      "      \"label\": \"Process\"\n",
      "    },\n",
      "    {\n",
      "      \"id\": \"delay\",\n",
      "      \"type\": \"delay\",\n",
      "      \"label\": \"Delay\"\n",
      "    },\n",
      "    {\n",
      "      \"id\": \"print_result\",\n",
      "      \"type\": \"process\",\n",
      "      \"label\": \"Print result\"\n",
      "    },\n",
      "    {\n",
      "      \"id\": \"end\",\n",
      "      \"type\": \"terminator\",\n",
      "      \"label\": \"End\"\n",
      "    }\n",
      "  ],\n",
      "  \"edges\": [\n",
      "    {\n",
      "      \"from\": \"start\",\n",
      "      \"to\": \"initialize\",\n",
      "      \"type\": \"normal\"\n",
      "    },\n",
      "    {\n",
      "      \"from\": \"initialize\",\n",
      "      \"to\": \"decision\",\n",
      "      \"type\": \"normal\"\n",
      "    },\n",
      "    {\n",
      "      \"from\": \"decision\",\n",
      "      \"to\": \"process\",\n",
      "      \"label\": \"No\",\n",
      "      \"type\": \"dashed\"\n",
      "    },\n",
      "    {\n",
      "      \"from\": \"process\",\n",
      "      \"to\": \"delay\",\n",
      "      \"type\": \"dashed\"\n",
      "    },\n",
      "    {\n",
      "      \"from\": \"delay\",\n",
      "      \"to\": \"initialize\",\n",
      "      \"type\": \"dashed\"\n",
      "    },\n",
      "    {\n",
      "      \"from\": \"decision\",\n",
      "      \"to\": \"print_result\",\n",
      "      \"label\": \"Yes\",\n",
      "      \"type\": \"normal\"\n",
      "    },\n",
      "    {\n",
      "      \"from\": \"print_result\",\n",
      "      \"to\": \"end\",\n",
      "      \"type\": \"normal\"\n",
      "    }\n",
      "  ]\n",
      "}\n"
     ]
    }
   ],
   "source": [
    "print(response.content[0].text)"
   ]
  },
  {
   "cell_type": "code",
   "execution_count": null,
   "metadata": {},
   "outputs": [],
   "source": []
  }
 ],
 "metadata": {
  "kernelspec": {
   "display_name": ".venv",
   "language": "python",
   "name": "python3"
  },
  "language_info": {
   "codemirror_mode": {
    "name": "ipython",
    "version": 3
   },
   "file_extension": ".py",
   "mimetype": "text/x-python",
   "name": "python",
   "nbconvert_exporter": "python",
   "pygments_lexer": "ipython3",
   "version": "3.12.3"
  }
 },
 "nbformat": 4,
 "nbformat_minor": 2
}
