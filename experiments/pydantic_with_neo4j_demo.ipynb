{
 "cells": [
  {
   "cell_type": "code",
   "execution_count": 1,
   "metadata": {},
   "outputs": [
    {
     "ename": "NameError",
     "evalue": "name 'export_json' is not defined",
     "output_type": "error",
     "traceback": [
      "\u001b[0;31m---------------------------------------------------------------------------\u001b[0m",
      "\u001b[0;31mNameError\u001b[0m                                 Traceback (most recent call last)",
      "Cell \u001b[0;32mIn[1], line 117\u001b[0m\n\u001b[1;32m    113\u001b[0m     \u001b[38;5;28mprint\u001b[39m(result\u001b[38;5;241m.\u001b[39musage)\n\u001b[1;32m    114\u001b[0m     \u001b[38;5;28mprint\u001b[39m(\u001b[38;5;124m\"\u001b[39m\u001b[38;5;124m=\u001b[39m\u001b[38;5;124m\"\u001b[39m \u001b[38;5;241m*\u001b[39m \u001b[38;5;241m100\u001b[39m)\n\u001b[0;32m--> 117\u001b[0m \u001b[38;5;28;01mawait\u001b[39;00m main()\n",
      "Cell \u001b[0;32mIn[1], line 112\u001b[0m, in \u001b[0;36mmain\u001b[0;34m()\u001b[0m\n\u001b[1;32m    104\u001b[0m deps \u001b[38;5;241m=\u001b[39m DiagramDigitizerDependencies(\n\u001b[1;32m    105\u001b[0m     llm_service\u001b[38;5;241m=\u001b[39mMultiModalLLMService(model\u001b[38;5;241m=\u001b[39m\u001b[38;5;124m\"\u001b[39m\u001b[38;5;124mclaude-3-5-sonnet-20241022\u001b[39m\u001b[38;5;124m\"\u001b[39m),\n\u001b[1;32m    106\u001b[0m     diagram_path\u001b[38;5;241m=\u001b[39m\u001b[38;5;124m\"\u001b[39m\u001b[38;5;124m./dataset/kamizuru/6.png\u001b[39m\u001b[38;5;124m\"\u001b[39m,\n\u001b[1;32m    107\u001b[0m )\n\u001b[1;32m    109\u001b[0m result \u001b[38;5;241m=\u001b[39m \u001b[38;5;28;01mawait\u001b[39;00m diagram_digitizer_agent\u001b[38;5;241m.\u001b[39mrun(\n\u001b[1;32m    110\u001b[0m     \u001b[38;5;124m\"\u001b[39m\u001b[38;5;124mExtract the details from the image\u001b[39m\u001b[38;5;124m\"\u001b[39m, deps\u001b[38;5;241m=\u001b[39mdeps\n\u001b[1;32m    111\u001b[0m )\n\u001b[0;32m--> 112\u001b[0m \u001b[43mexport_json\u001b[49m(result\u001b[38;5;241m.\u001b[39mdata\u001b[38;5;241m.\u001b[39mmodel_dump_json())\n\u001b[1;32m    113\u001b[0m \u001b[38;5;28mprint\u001b[39m(result\u001b[38;5;241m.\u001b[39musage)\n\u001b[1;32m    114\u001b[0m \u001b[38;5;28mprint\u001b[39m(\u001b[38;5;124m\"\u001b[39m\u001b[38;5;124m=\u001b[39m\u001b[38;5;124m\"\u001b[39m \u001b[38;5;241m*\u001b[39m \u001b[38;5;241m100\u001b[39m)\n",
      "\u001b[0;31mNameError\u001b[0m: name 'export_json' is not defined"
     ]
    }
   ],
   "source": [
    "from pydantic import BaseModel, Field\n",
    "from typing import List, Literal\n",
    "import dotenv\n",
    "import base64\n",
    "from anthropic import Anthropic\n",
    "from pydantic_ai import Agent, RunContext\n",
    "from dataclasses import dataclass\n",
    "from pydantic_ai.models.anthropic import AnthropicModel\n",
    "\n",
    "def export_json(data):\n",
    "    import json\n",
    "    with open('output.json', 'w', encoding='utf8') as f:\n",
    "        json.dump(data, f, indent=4)\n",
    "\n",
    "anthropic_api_key = dotenv.get_key(dotenv_path=\".env\", key_to_get=\"ANTHROPIC_API_KEY\")\n",
    "if anthropic_api_key is None:\n",
    "    Exception(\"APi key not available\")\n",
    "\n",
    "\n",
    "class Node(BaseModel):\n",
    "    \"\"\"Structure of a node in the diagram\"\"\"\n",
    "\n",
    "    id: str = Field(description=\"Id of the Node\")\n",
    "    type_of_node: Literal[\"process\", \"decision\", \"delay\", \"terminator\",\"start\"] | str = Field(\n",
    "        description=\"The type of node\"\n",
    "    )\n",
    "    label: str = Field(description=\"Label of the node\")\n",
    "\n",
    "\n",
    "class Edge(BaseModel):\n",
    "    \"\"\"Structure of a edge in the diagram\"\"\"\n",
    "\n",
    "    from_: str = Field(description=\"The ID of the edge's starting node\")\n",
    "    to: str = Field(description=\"The ID of edge's end node\")\n",
    "    type_of_edge: Literal[\"dashed\", \"solid\"] = Field( default=\"solid\",\n",
    "        description=\"The type of edge, visually\"\n",
    "    )\n",
    "\n",
    "\n",
    "class Graph(BaseModel):\n",
    "    \"\"\"Structure of the graph representing the diagram\"\"\"\n",
    "\n",
    "    nodes: List[Node] = Field(description=\"Nodes from the diagram\")\n",
    "    edges: List[Edge] = Field(description=\"Edges from the diagram\")\n",
    "\n",
    "\n",
    "class MultiModalLLMService:\n",
    "    \"\"\"Service to interact with Anthropic multimodal LLMs.\"\"\"\n",
    "\n",
    "    def __init__(self, model: str):\n",
    "        self.client = Anthropic(api_key=anthropic_api_key)\n",
    "        self.model = model\n",
    "\n",
    "    async def perform_task(\n",
    "        self, image_path: str, response_model: type, max_tokens: int = 1000\n",
    "    ):\n",
    "        \"\"\"Send an image and prompt to the LLM and return structured output.\"\"\"\n",
    "        with open(image_path, \"rb\") as image_file:\n",
    "            base64_image = base64.b64encode(image_file.read()).decode(\"utf-8\")\n",
    "\n",
    "        message_list = [\n",
    "            {\n",
    "                \"role\": \"user\",\n",
    "                \"content\": [\n",
    "                    {\n",
    "                        \"type\": \"image\",\n",
    "                        \"source\": {\n",
    "                            \"type\": \"base64\",\n",
    "                            \"media_type\": \"image/png\",\n",
    "                            \"data\": base64_image,\n",
    "                        },\n",
    "                    },\n",
    "                ],\n",
    "            }\n",
    "        ]\n",
    "        response = self.client.messages.create( \n",
    "            model=self.model,\n",
    "            max_tokens=max_tokens,\n",
    "            messages=message_list,\n",
    "        )\n",
    "        return response.content[0].text\n",
    "\n",
    "\n",
    "@dataclass\n",
    "class DiagramDigitizerDependencies:\n",
    "    llm_service: MultiModalLLMService\n",
    "    diagram_path: str\n",
    "\n",
    "\n",
    "diagram_digitizer_agent = Agent(\n",
    "    AnthropicModel(\"claude-3-5-sonnet-latest\", api_key=anthropic_api_key),\n",
    "    deps_type=DiagramDigitizerDependencies,\n",
    "    result_type=Graph,\n",
    "    system_prompt=\"You are a data scientist and you are working on a project to extract information from a diagram in json format. Which is compatiable with knowledge graph databases. Consider their shape and translate it's purpose(process, decision, etc.) as it is important for the data extraction. only give the json format of the diagram.\",\n",
    ")\n",
    "\n",
    "\n",
    "@diagram_digitizer_agent.tool\n",
    "async def extract_diagram_info(ctx: RunContext[DiagramDigitizerDependencies]) -> Graph:\n",
    "    \"\"\"Tool to extract diagram information details from the image\"\"\"\n",
    "    return await ctx.deps.llm_service.perform_task(\n",
    "        image_path=ctx.deps.diagram_path, response_model=Graph\n",
    "    )\n",
    "\n",
    "result = None\n",
    "async def main():\n",
    "    global result\n",
    "    deps = DiagramDigitizerDependencies(\n",
    "        llm_service=MultiModalLLMService(model=\"claude-3-5-sonnet-20241022\"),\n",
    "        diagram_path=\"./dataset/kamizuru/6.png\",\n",
    "    )\n",
    "    \n",
    "    result = await diagram_digitizer_agent.run(\n",
    "        \"Extract the details from the image\", deps=deps\n",
    "    )\n",
    "    export_json(result.data.model_dump_json())\n",
    "    print(result.usage)\n",
    "    print(\"=\" * 100)\n",
    "\n",
    "\n",
    "await main()"
   ]
  },
  {
   "cell_type": "code",
   "execution_count": 11,
   "metadata": {},
   "outputs": [],
   "source": []
  },
  {
   "cell_type": "code",
   "execution_count": 16,
   "metadata": {},
   "outputs": [],
   "source": [
    "export_json(result.data.model_dump())"
   ]
  },
  {
   "cell_type": "code",
   "execution_count": 3,
   "metadata": {},
   "outputs": [
    {
     "data": {
      "text/plain": [
       "{'nodes': [{'id': '1', 'type_of_node': 'start', 'label': 'Start'},\n",
       "  {'id': '2',\n",
       "   'type_of_node': 'decision',\n",
       "   'label': 'Target Sector < Max Sector?'},\n",
       "  {'id': '3', 'type_of_node': 'process', 'label': 'Increment Target Sector'},\n",
       "  {'id': '4', 'type_of_node': 'process', 'label': 'Target Sector = 0'},\n",
       "  {'id': '5', 'type_of_node': 'decision', 'label': 'Update Wanted?'},\n",
       "  {'id': '6', 'type_of_node': 'process', 'label': 'Increment Target Head'},\n",
       "  {'id': '7', 'type_of_node': 'process', 'label': 'Target Head = 0'},\n",
       "  {'id': '8', 'type_of_node': 'process', 'label': 'Increment'},\n",
       "  {'id': '9', 'type_of_node': 'terminator', 'label': 'End'}],\n",
       " 'edges': [{'from_': '1', 'to': '2', 'type_of_edge': 'solid'},\n",
       "  {'from_': '2', 'to': '3', 'type_of_edge': 'solid'},\n",
       "  {'from_': '2', 'to': '4', 'type_of_edge': 'solid'},\n",
       "  {'from_': '4', 'to': '5', 'type_of_edge': 'solid'},\n",
       "  {'from_': '5', 'to': '6', 'type_of_edge': 'solid'},\n",
       "  {'from_': '5', 'to': '7', 'type_of_edge': 'solid'},\n",
       "  {'from_': '3', 'to': '8', 'type_of_edge': 'solid'},\n",
       "  {'from_': '6', 'to': '8', 'type_of_edge': 'solid'},\n",
       "  {'from_': '7', 'to': '8', 'type_of_edge': 'solid'},\n",
       "  {'from_': '8', 'to': '9', 'type_of_edge': 'solid'}]}"
      ]
     },
     "execution_count": 3,
     "metadata": {},
     "output_type": "execute_result"
    }
   ],
   "source": [
    "result.data.model_dump()"
   ]
  },
  {
   "cell_type": "code",
   "execution_count": 3,
   "metadata": {},
   "outputs": [
    {
     "data": {
      "text/plain": [
       "{'nodes': [{'id': '1', 'type_of_node': 'start', 'label': 'Start'},\n",
       "  {'id': '2',\n",
       "   'type_of_node': 'decision',\n",
       "   'label': 'Target Sector < Max Sector?'},\n",
       "  {'id': '3', 'type_of_node': 'process', 'label': 'Increment Target Sector'},\n",
       "  {'id': '4', 'type_of_node': 'process', 'label': 'Target Sector = 0'},\n",
       "  {'id': '5', 'type_of_node': 'decision', 'label': 'Update Wanted?'},\n",
       "  {'id': '6', 'type_of_node': 'process', 'label': 'Increment Target Head'},\n",
       "  {'id': '7', 'type_of_node': 'process', 'label': 'Target Head = 0'},\n",
       "  {'id': '8', 'type_of_node': 'process', 'label': 'Increment'},\n",
       "  {'id': '9', 'type_of_node': 'terminator', 'label': 'End'}],\n",
       " 'edges': [{'from_': '1', 'to': '2', 'type_of_edge': 'solid'},\n",
       "  {'from_': '2', 'to': '3', 'type_of_edge': 'solid'},\n",
       "  {'from_': '2', 'to': '4', 'type_of_edge': 'solid'},\n",
       "  {'from_': '4', 'to': '5', 'type_of_edge': 'solid'},\n",
       "  {'from_': '5', 'to': '6', 'type_of_edge': 'solid'},\n",
       "  {'from_': '5', 'to': '7', 'type_of_edge': 'solid'},\n",
       "  {'from_': '3', 'to': '8', 'type_of_edge': 'solid'},\n",
       "  {'from_': '6', 'to': '8', 'type_of_edge': 'solid'},\n",
       "  {'from_': '7', 'to': '8', 'type_of_edge': 'solid'},\n",
       "  {'from_': '8', 'to': '9', 'type_of_edge': 'solid'}]}"
      ]
     },
     "execution_count": 3,
     "metadata": {},
     "output_type": "execute_result"
    }
   ],
   "source": [
    "data"
   ]
  },
  {
   "cell_type": "code",
   "execution_count": 3,
   "metadata": {},
   "outputs": [],
   "source": [
    "from neo4j import GraphDatabase"
   ]
  },
  {
   "cell_type": "code",
   "execution_count": 4,
   "metadata": {},
   "outputs": [],
   "source": [
    "URI = \"neo4j://localhost:7687\"\n",
    "AUTH = (\"neo4j\", \"vava7878\")\n"
   ]
  },
  {
   "cell_type": "code",
   "execution_count": 5,
   "metadata": {},
   "outputs": [
    {
     "name": "stdout",
     "output_type": "stream",
     "text": [
      "<Record n=<Node element_id='4:6d1f0adb-16c6-4d53-b29a-4b6a931caee3:0' labels=frozenset({'Node'}) properties={'id': 'OrderReceived', 'label': 'Order received', 'type': 'start'}>>\n",
      "<Record n=<Node element_id='4:6d1f0adb-16c6-4d53-b29a-4b6a931caee3:1' labels=frozenset({'Node'}) properties={'id': 'EnterOrderInSystem', 'label': 'Enter order in system', 'type': 'process'}>>\n",
      "<Record n=<Node element_id='4:6d1f0adb-16c6-4d53-b29a-4b6a931caee3:2' labels=frozenset({'Node'}) properties={'id': 'CreditCheck', 'label': 'Credit check', 'type': 'process'}>>\n",
      "<Record n=<Node element_id='4:6d1f0adb-16c6-4d53-b29a-4b6a931caee3:3' labels=frozenset({'Node'}) properties={'id': 'IsCreditGood', 'label': 'Is credit good?', 'type': 'decision'}>>\n",
      "<Record n=<Node element_id='4:6d1f0adb-16c6-4d53-b29a-4b6a931caee3:4' labels=frozenset({'Node'}) properties={'id': 'RefuseOrder', 'label': 'Refuse order', 'type': 'output'}>>\n",
      "<Record n=<Node element_id='4:6d1f0adb-16c6-4d53-b29a-4b6a931caee3:5' labels=frozenset({'Node'}) properties={'id': 'CheckInventory', 'label': 'Check inventory', 'type': 'process'}>>\n",
      "<Record n=<Node element_id='4:6d1f0adb-16c6-4d53-b29a-4b6a931caee3:6' labels=frozenset({'Node'}) properties={'id': 'ProductInInventory', 'label': 'Product in inventory?', 'type': 'decision'}>>\n",
      "<Record n=<Node element_id='4:6d1f0adb-16c6-4d53-b29a-4b6a931caee3:7' labels=frozenset({'Node'}) properties={'id': 'CheckMaterialsNeeded', 'label': 'Check materials needed', 'type': 'process'}>>\n",
      "<Record n=<Node element_id='4:6d1f0adb-16c6-4d53-b29a-4b6a931caee3:8' labels=frozenset({'Node'}) properties={'id': 'AreMaterialsInInventory', 'label': 'Are materials in inventory?', 'type': 'decision'}>>\n",
      "<Record n=<Node element_id='4:6d1f0adb-16c6-4d53-b29a-4b6a931caee3:9' labels=frozenset({'Node'}) properties={'id': 'OrderMaterials', 'label': 'Order materials', 'type': 'process'}>>\n",
      "<Record n=<Node element_id='4:6d1f0adb-16c6-4d53-b29a-4b6a931caee3:10' labels=frozenset({'Node'}) properties={'id': 'Vendor', 'label': 'Vendor', 'type': 'external_entity'}>>\n",
      "<Record n=<Node element_id='4:6d1f0adb-16c6-4d53-b29a-4b6a931caee3:11' labels=frozenset({'Node'}) properties={'id': 'WaitForMaterials', 'label': 'Wait', 'type': 'delay'}>>\n",
      "<Record n=<Node element_id='4:6d1f0adb-16c6-4d53-b29a-4b6a931caee3:12' labels=frozenset({'Node'}) properties={'id': 'ReceiveMaterials', 'label': 'Receive materials', 'type': 'process'}>>\n",
      "<Record n=<Node element_id='4:6d1f0adb-16c6-4d53-b29a-4b6a931caee3:13' labels=frozenset({'Node'}) properties={'id': 'InspectMaterials', 'label': 'Inspect materials', 'type': 'process'}>>\n",
      "<Record n=<Node element_id='4:6d1f0adb-16c6-4d53-b29a-4b6a931caee3:14' labels=frozenset({'Node'}) properties={'id': 'AreMaterialsGood', 'label': 'Are materials good?', 'type': 'decision'}>>\n",
      "<Record n=<Node element_id='4:6d1f0adb-16c6-4d53-b29a-4b6a931caee3:15' labels=frozenset({'Node'}) properties={'id': 'ScheduleProduction', 'label': 'Schedule production', 'type': 'process'}>>\n",
      "<Record n=<Node element_id='4:6d1f0adb-16c6-4d53-b29a-4b6a931caee3:16' labels=frozenset({'Node'}) properties={'id': 'WaitForProduction', 'label': 'Wait', 'type': 'delay'}>>\n",
      "<Record n=<Node element_id='4:6d1f0adb-16c6-4d53-b29a-4b6a931caee3:17' labels=frozenset({'Node'}) properties={'id': 'MakeProduct', 'label': 'Make product', 'type': 'process'}>>\n",
      "<Record n=<Node element_id='4:6d1f0adb-16c6-4d53-b29a-4b6a931caee3:18' labels=frozenset({'Node'}) properties={'id': 'InspectProduct', 'label': 'Inspect product', 'type': 'process'}>>\n",
      "<Record n=<Node element_id='4:6d1f0adb-16c6-4d53-b29a-4b6a931caee3:19' labels=frozenset({'Node'}) properties={'id': 'IsProductGood', 'label': 'Is product good?', 'type': 'decision'}>>\n",
      "<Record n=<Node element_id='4:6d1f0adb-16c6-4d53-b29a-4b6a931caee3:20' labels=frozenset({'Node'}) properties={'id': 'ScheduleShipment', 'label': 'Schedule shipment', 'type': 'process'}>>\n",
      "<Record n=<Node element_id='4:6d1f0adb-16c6-4d53-b29a-4b6a931caee3:21' labels=frozenset({'Node'}) properties={'id': 'ConfirmDeliveryDateWithCustomer', 'label': 'Confirm delivery date with customer', 'type': 'process'}>>\n",
      "<Record n=<Node element_id='4:6d1f0adb-16c6-4d53-b29a-4b6a931caee3:22' labels=frozenset({'Node'}) properties={'id': 'ShipProduct', 'label': 'Ship product', 'type': 'process'}>>\n",
      "<Record n=<Node element_id='4:6d1f0adb-16c6-4d53-b29a-4b6a931caee3:23' labels=frozenset({'Node'}) properties={'id': 'PrepareBill', 'label': 'Prepare bill', 'type': 'process'}>>\n",
      "<Record n=<Node element_id='4:6d1f0adb-16c6-4d53-b29a-4b6a931caee3:24' labels=frozenset({'Node'}) properties={'id': 'MailBill', 'label': 'Mail bill', 'type': 'output'}>>\n"
     ]
    }
   ],
   "source": [
    "with GraphDatabase.driver(URI, auth=AUTH) as driver:\n",
    "    # driver.verify_connectivity()\n",
    "    records,a, b =driver.execute_query(\"MATCH (n) RETURN (n)\")\n",
    "    for record in records:\n",
    "        print(record)"
   ]
  },
  {
   "cell_type": "code",
   "execution_count": 8,
   "metadata": {},
   "outputs": [],
   "source": [
    "from neo4j import GraphDatabase\n",
    "\n",
    "def execute_neo4j_query(uri, username, password,query,  params=None, database='neo4j'):\n",
    "    with GraphDatabase.driver(uri, auth=(username, password)) as driver:\n",
    "        records,summary, keys = driver.execute_query(query, params, database=database)\n",
    "        print(f'records: {records}, summary: {summary}, keys: {keys}')\n",
    "        return records, summary, keys"
   ]
  },
  {
   "cell_type": "code",
   "execution_count": 9,
   "metadata": {},
   "outputs": [
    {
     "name": "stdout",
     "output_type": "stream",
     "text": [
      "records: [<Record n=<Node element_id='4:6d1f0adb-16c6-4d53-b29a-4b6a931caee3:0' labels=frozenset({'Node'}) properties={'id': 'OrderReceived', 'label': 'Order received', 'type': 'start'}>>, <Record n=<Node element_id='4:6d1f0adb-16c6-4d53-b29a-4b6a931caee3:1' labels=frozenset({'Node'}) properties={'id': 'EnterOrderInSystem', 'label': 'Enter order in system', 'type': 'process'}>>, <Record n=<Node element_id='4:6d1f0adb-16c6-4d53-b29a-4b6a931caee3:2' labels=frozenset({'Node'}) properties={'id': 'CreditCheck', 'label': 'Credit check', 'type': 'process'}>>, <Record n=<Node element_id='4:6d1f0adb-16c6-4d53-b29a-4b6a931caee3:3' labels=frozenset({'Node'}) properties={'id': 'IsCreditGood', 'label': 'Is credit good?', 'type': 'decision'}>>, <Record n=<Node element_id='4:6d1f0adb-16c6-4d53-b29a-4b6a931caee3:4' labels=frozenset({'Node'}) properties={'id': 'RefuseOrder', 'label': 'Refuse order', 'type': 'output'}>>, <Record n=<Node element_id='4:6d1f0adb-16c6-4d53-b29a-4b6a931caee3:5' labels=frozenset({'Node'}) properties={'id': 'CheckInventory', 'label': 'Check inventory', 'type': 'process'}>>, <Record n=<Node element_id='4:6d1f0adb-16c6-4d53-b29a-4b6a931caee3:6' labels=frozenset({'Node'}) properties={'id': 'ProductInInventory', 'label': 'Product in inventory?', 'type': 'decision'}>>, <Record n=<Node element_id='4:6d1f0adb-16c6-4d53-b29a-4b6a931caee3:7' labels=frozenset({'Node'}) properties={'id': 'CheckMaterialsNeeded', 'label': 'Check materials needed', 'type': 'process'}>>, <Record n=<Node element_id='4:6d1f0adb-16c6-4d53-b29a-4b6a931caee3:8' labels=frozenset({'Node'}) properties={'id': 'AreMaterialsInInventory', 'label': 'Are materials in inventory?', 'type': 'decision'}>>, <Record n=<Node element_id='4:6d1f0adb-16c6-4d53-b29a-4b6a931caee3:9' labels=frozenset({'Node'}) properties={'id': 'OrderMaterials', 'label': 'Order materials', 'type': 'process'}>>, <Record n=<Node element_id='4:6d1f0adb-16c6-4d53-b29a-4b6a931caee3:10' labels=frozenset({'Node'}) properties={'id': 'Vendor', 'label': 'Vendor', 'type': 'external_entity'}>>, <Record n=<Node element_id='4:6d1f0adb-16c6-4d53-b29a-4b6a931caee3:11' labels=frozenset({'Node'}) properties={'id': 'WaitForMaterials', 'label': 'Wait', 'type': 'delay'}>>, <Record n=<Node element_id='4:6d1f0adb-16c6-4d53-b29a-4b6a931caee3:12' labels=frozenset({'Node'}) properties={'id': 'ReceiveMaterials', 'label': 'Receive materials', 'type': 'process'}>>, <Record n=<Node element_id='4:6d1f0adb-16c6-4d53-b29a-4b6a931caee3:13' labels=frozenset({'Node'}) properties={'id': 'InspectMaterials', 'label': 'Inspect materials', 'type': 'process'}>>, <Record n=<Node element_id='4:6d1f0adb-16c6-4d53-b29a-4b6a931caee3:14' labels=frozenset({'Node'}) properties={'id': 'AreMaterialsGood', 'label': 'Are materials good?', 'type': 'decision'}>>, <Record n=<Node element_id='4:6d1f0adb-16c6-4d53-b29a-4b6a931caee3:15' labels=frozenset({'Node'}) properties={'id': 'ScheduleProduction', 'label': 'Schedule production', 'type': 'process'}>>, <Record n=<Node element_id='4:6d1f0adb-16c6-4d53-b29a-4b6a931caee3:16' labels=frozenset({'Node'}) properties={'id': 'WaitForProduction', 'label': 'Wait', 'type': 'delay'}>>, <Record n=<Node element_id='4:6d1f0adb-16c6-4d53-b29a-4b6a931caee3:17' labels=frozenset({'Node'}) properties={'id': 'MakeProduct', 'label': 'Make product', 'type': 'process'}>>, <Record n=<Node element_id='4:6d1f0adb-16c6-4d53-b29a-4b6a931caee3:18' labels=frozenset({'Node'}) properties={'id': 'InspectProduct', 'label': 'Inspect product', 'type': 'process'}>>, <Record n=<Node element_id='4:6d1f0adb-16c6-4d53-b29a-4b6a931caee3:19' labels=frozenset({'Node'}) properties={'id': 'IsProductGood', 'label': 'Is product good?', 'type': 'decision'}>>, <Record n=<Node element_id='4:6d1f0adb-16c6-4d53-b29a-4b6a931caee3:20' labels=frozenset({'Node'}) properties={'id': 'ScheduleShipment', 'label': 'Schedule shipment', 'type': 'process'}>>, <Record n=<Node element_id='4:6d1f0adb-16c6-4d53-b29a-4b6a931caee3:21' labels=frozenset({'Node'}) properties={'id': 'ConfirmDeliveryDateWithCustomer', 'label': 'Confirm delivery date with customer', 'type': 'process'}>>, <Record n=<Node element_id='4:6d1f0adb-16c6-4d53-b29a-4b6a931caee3:22' labels=frozenset({'Node'}) properties={'id': 'ShipProduct', 'label': 'Ship product', 'type': 'process'}>>, <Record n=<Node element_id='4:6d1f0adb-16c6-4d53-b29a-4b6a931caee3:23' labels=frozenset({'Node'}) properties={'id': 'PrepareBill', 'label': 'Prepare bill', 'type': 'process'}>>, <Record n=<Node element_id='4:6d1f0adb-16c6-4d53-b29a-4b6a931caee3:24' labels=frozenset({'Node'}) properties={'id': 'MailBill', 'label': 'Mail bill', 'type': 'output'}>>], summary: <neo4j._work.summary.ResultSummary object at 0x72b7775344a0>, keys: ['n']\n"
     ]
    }
   ],
   "source": [
    "rec, summ, keys = execute_neo4j_query(URI, \"neo4j\", \"vava7878\", \"MATCH (n) RETURN (n)\")"
   ]
  },
  {
   "cell_type": "code",
   "execution_count": 12,
   "metadata": {},
   "outputs": [
    {
     "data": {
      "text/plain": [
       "{'query': 'MATCH (n) RETURN (n)',\n",
       " 'parameters': {'database': 'neo4j'},\n",
       " 'server': <neo4j.api.ServerInfo at 0x72b7a8127260>,\n",
       " 'database': None,\n",
       " 't_first': 3,\n",
       " 'fields': ['n'],\n",
       " 'qid': 0,\n",
       " 'statuses': [{'gql_status': '00000',\n",
       "   'status_description': 'note: successful completion',\n",
       "   'diagnostic_record': {'OPERATION': '',\n",
       "    'OPERATION_CODE': '0',\n",
       "    'CURRENT_SCHEMA': '/'}}],\n",
       " 'type': 'r',\n",
       " 't_last': 3,\n",
       " 'db': 'neo4j'}"
      ]
     },
     "execution_count": 12,
     "metadata": {},
     "output_type": "execute_result"
    }
   ],
   "source": [
    "summ.metadata"
   ]
  },
  {
   "cell_type": "code",
   "execution_count": 23,
   "metadata": {},
   "outputs": [],
   "source": [
    "data = {\n",
    "\t\"nodes\": [\n",
    "\t\t{\n",
    "\t\t\t\"id\": \"1\",\n",
    "\t\t\t\"type_of_node\": \"start\",\n",
    "\t\t\t\"label\": \"Input Image\"\n",
    "\t\t},\n",
    "\t\t{\n",
    "\t\t\t\"id\": \"2\",\n",
    "\t\t\t\"type_of_node\": \"process\",\n",
    "\t\t\t\"label\": \"Image Enhancement\"\n",
    "\t\t},\n",
    "\t\t{\n",
    "\t\t\t\"id\": \"3\",\n",
    "\t\t\t\"type_of_node\": \"process\",\n",
    "\t\t\t\"label\": \"Image Segmentation\"\n",
    "\t\t},\n",
    "\t\t{\n",
    "\t\t\t\"id\": \"4\",\n",
    "\t\t\t\"type_of_node\": \"process\",\n",
    "\t\t\t\"label\": \"Cropping ROI Manually\"\n",
    "\t\t},\n",
    "\t\t{\n",
    "\t\t\t\"id\": \"5\",\n",
    "\t\t\t\"type_of_node\": \"process\",\n",
    "\t\t\t\"label\": \"Threshold and region based technique\"\n",
    "\t\t},\n",
    "\t\t{\n",
    "\t\t\t\"id\": \"6\",\n",
    "\t\t\t\"type_of_node\": \"process\",\n",
    "\t\t\t\"label\": \"NCNNN\"\n",
    "\t\t},\n",
    "\t\t{\n",
    "\t\t\t\"id\": \"7\",\n",
    "\t\t\t\"type_of_node\": \"process\",\n",
    "\t\t\t\"label\": \"Testing\"\n",
    "\t\t},\n",
    "\t\t{\n",
    "\t\t\t\"id\": \"8\",\n",
    "\t\t\t\"type_of_node\": \"terminator\",\n",
    "\t\t\t\"label\": \"Evaluation\"\n",
    "\t\t}\n",
    "\t],\n",
    "\t\"edges\": [\n",
    "\t\t{\n",
    "\t\t\t\"from_\": \"1\",\n",
    "\t\t\t\"to\": \"2\",\n",
    "\t\t\t\"type_of_edge\": \"solid\",\n",
    "\t\t\t\"relationship_type\": \"follows\"\n",
    "\t\t},\n",
    "\t\t{\n",
    "\t\t\t\"from_\": \"2\",\n",
    "\t\t\t\"to\": \"3\",\n",
    "\t\t\t\"type_of_edge\": \"solid\",\n",
    "\t\t\t\"relationship_type\": \"follows\"\n",
    "\t\t},\n",
    "\t\t{\n",
    "\t\t\t\"from_\": \"3\",\n",
    "\t\t\t\"to\": \"4\",\n",
    "\t\t\t\"type_of_edge\": \"solid\",\n",
    "\t\t\t\"relationship_type\": \"branches\"\n",
    "\t\t},\n",
    "\t\t{\n",
    "\t\t\t\"from_\": \"3\",\n",
    "\t\t\t\"to\": \"5\",\n",
    "\t\t\t\"type_of_edge\": \"solid\",\n",
    "\t\t\t\"relationship_type\": \"branches\"\n",
    "\t\t},\n",
    "\n",
    "\t\t{\n",
    "\t\t\t\"from_\": \"4\",\n",
    "\t\t\t\"to\": \"6\",\n",
    "\t\t\t\"type_of_edge\": \"solid\",\n",
    "\t\t\t\"relationship_type\": \"follows\"\n",
    "\t\t},\n",
    "\t\t{\n",
    "\t\t\t\"from_\": \"5\",\n",
    "\t\t\t\"to\": \"6\",\n",
    "\t\t\t\"type_of_edge\": \"solid\",\n",
    "\t\t\t\"relationship_type\": \"follows\"\n",
    "\t\t},\n",
    "\t\t{\n",
    "\t\t\t\"from_\": \"6\",\n",
    "\t\t\t\"to\": \"7\",\n",
    "\t\t\t\"type_of_edge\": \"solid\",\n",
    "\t\t\t\"relationship_type\": \"follows\"\n",
    "\t\t},\n",
    "\t\t{\n",
    "\t\t\t\"from_\": \"7\",\n",
    "\t\t\t\"to\": \"8\",\n",
    "\t\t\t\"type_of_edge\": \"solid\",\n",
    "\t\t\t\"relationship_type\": \"follows\"\n",
    "\t\t}\n",
    "\t]\n",
    "}\n"
   ]
  },
  {
   "cell_type": "code",
   "execution_count": 44,
   "metadata": {},
   "outputs": [],
   "source": [
    "dd = {\n",
    "  \"nodes\":{\n",
    "    \"Person\":[\n",
    "      {\n",
    "        \"_uid\": \"abc123\",\n",
    "        \"last name\": \"John\",\n",
    "      },\n",
    "      {\n",
    "        \"_uid\": \"dcf456\",\n",
    "        \"last name\": \"Bowery\",\n",
    "      },\n",
    "    ]\n",
    "  },\n",
    "  \"relationships\":{\n",
    "      \"FRIENDS_WITH\":[\n",
    "        {\n",
    "          \"_from_uid\": \"abc123\",\n",
    "          \"_to_uid\": \"dcf456\",\n",
    "          \"since\": 1997\n",
    "        }\n",
    "      ]\n",
    "  }\n",
    "}"
   ]
  },
  {
   "cell_type": "code",
   "execution_count": 45,
   "metadata": {},
   "outputs": [
    {
     "name": "stdout",
     "output_type": "stream",
     "text": [
      "node_label :Person {'_uid': 'abc123', 'last name': 'John'}\n",
      "node_label :Person {'_uid': 'dcf456', 'last name': 'Bowery'}\n"
     ]
    }
   ],
   "source": [
    "for node_label, node_records in dd['nodes'].items():\n",
    "    for node in node_records:\n",
    "        print(f'node_label :{node_label} {node}')"
   ]
  },
  {
   "cell_type": "code",
   "execution_count": 46,
   "metadata": {},
   "outputs": [],
   "source": [
    "def convert_nodes(nodes:dict):\n",
    "    query = ''\n",
    "    for node_label in nodes.keys():\n",
    "        query += f\"\"\"CALL apoc.create.nodes([\"{node_label}\"],${node_label});\"\"\"\n",
    "    return query, nodes\n"
   ]
  },
  {
   "cell_type": "code",
   "execution_count": 47,
   "metadata": {},
   "outputs": [
    {
     "data": {
      "text/plain": [
       "('CALL apoc.create.nodes([\"Person\"],$Person);',\n",
       " {'Person': [{'_uid': 'abc123', 'last name': 'John'},\n",
       "   {'_uid': 'dcf456', 'last name': 'Bowery'}]})"
      ]
     },
     "execution_count": 47,
     "metadata": {},
     "output_type": "execute_result"
    }
   ],
   "source": [
    "convert_nodes(dd['nodes'])"
   ]
  },
  {
   "cell_type": "code",
   "execution_count": 48,
   "metadata": {},
   "outputs": [
    {
     "name": "stdout",
     "output_type": "stream",
     "text": [
      "records: [<Record node=<Node element_id='4:6d1f0adb-16c6-4d53-b29a-4b6a931caee3:2' labels=frozenset({'Person'}) properties={'_uid': 'abc123', 'last name': 'John'}>>, <Record node=<Node element_id='4:6d1f0adb-16c6-4d53-b29a-4b6a931caee3:3' labels=frozenset({'Person'}) properties={'_uid': 'dcf456', 'last name': 'Bowery'}>>], summary: <neo4j._work.summary.ResultSummary object at 0x72b76a209e20>, keys: ['node']\n"
     ]
    },
    {
     "data": {
      "text/plain": [
       "([<Record node=<Node element_id='4:6d1f0adb-16c6-4d53-b29a-4b6a931caee3:2' labels=frozenset({'Person'}) properties={'_uid': 'abc123', 'last name': 'John'}>>,\n",
       "  <Record node=<Node element_id='4:6d1f0adb-16c6-4d53-b29a-4b6a931caee3:3' labels=frozenset({'Person'}) properties={'_uid': 'dcf456', 'last name': 'Bowery'}>>],\n",
       " <neo4j._work.summary.ResultSummary at 0x72b76a209e20>,\n",
       " ['node'])"
      ]
     },
     "execution_count": 48,
     "metadata": {},
     "output_type": "execute_result"
    }
   ],
   "source": [
    "execute_neo4j_query(URI, \"neo4j\", \"vava7878\", convert_nodes(dd['nodes'])[0], convert_nodes(dd['nodes'])[1])"
   ]
  },
  {
   "cell_type": "code",
   "execution_count": 29,
   "metadata": {},
   "outputs": [],
   "source": [
    "node_types = set()\n",
    "\n",
    "for node in data['nodes']:\n",
    "    node_types.add(node['type_of_node'].capitalize())"
   ]
  },
  {
   "cell_type": "code",
   "execution_count": 30,
   "metadata": {},
   "outputs": [
    {
     "data": {
      "text/plain": [
       "{'Process', 'Start', 'Terminator'}"
      ]
     },
     "execution_count": 30,
     "metadata": {},
     "output_type": "execute_result"
    }
   ],
   "source": [
    "node_types"
   ]
  },
  {
   "cell_type": "code",
   "execution_count": null,
   "metadata": {},
   "outputs": [],
   "source": [
    "\"\"\"CALL apoc.create.nodes([\"Process\"],$Person);\"\"\""
   ]
  },
  {
   "cell_type": "code",
   "execution_count": 31,
   "metadata": {},
   "outputs": [
    {
     "name": "stdout",
     "output_type": "stream",
     "text": [
      "CALL apoc.create.nodes([\"Start\"],$Start);\n",
      "CALL apoc.create.nodes([\"Process\"],$Process);\n",
      "CALL apoc.create.nodes([\"Terminator\"],$Terminator);\n"
     ]
    }
   ],
   "source": [
    "for node_type in node_types:\n",
    "    print(f\"\"\"CALL apoc.create.nodes([\"{node_type}\"],${node_type});\"\"\")"
   ]
  },
  {
   "cell_type": "code",
   "execution_count": 49,
   "metadata": {},
   "outputs": [],
   "source": [
    "driver = GraphDatabase.driver(URI, auth=AUTH)"
   ]
  },
  {
   "cell_type": "code",
   "execution_count": 71,
   "metadata": {},
   "outputs": [],
   "source": [
    "data = {\n",
    "  \"nodes\": [\n",
    "    {\n",
    "      \"id\": \"1\",\n",
    "      \"type_of_node\": \"start\",\n",
    "      \"label\": \"Start\"\n",
    "    },\n",
    "    {\n",
    "      \"id\": \"2\",\n",
    "      \"type_of_node\": \"process\",\n",
    "      \"label\": \"Initialize\"\n",
    "    },\n",
    "    {\n",
    "      \"id\": \"3\",\n",
    "      \"type_of_node\": \"delay\",\n",
    "      \"label\": \"Delay\"\n",
    "    },\n",
    "    {\n",
    "      \"id\": \"4\",\n",
    "      \"type_of_node\": \"decision\",\n",
    "      \"label\": \"Decision\"\n",
    "    },\n",
    "    {\n",
    "      \"id\": \"5\",\n",
    "      \"type_of_node\": \"process\",\n",
    "      \"label\": \"Process\"\n",
    "    },\n",
    "    {\n",
    "      \"id\": \"6\",\n",
    "      \"type_of_node\": \"process\",\n",
    "      \"label\": \"Print result\"\n",
    "    },\n",
    "    {\n",
    "      \"id\": \"7\",\n",
    "      \"type_of_node\": \"terminator\",\n",
    "      \"label\": \"End\"\n",
    "    }\n",
    "  ],\n",
    "  \"edges\": [\n",
    "    {\n",
    "      \"from_\": \"1\",\n",
    "      \"from_type\": \"start\",\n",
    "      \"to\": \"2\",\n",
    "      \"to_type\": \"process\",\n",
    "      \"type_of_edge\": \"solid\",\n",
    "      \"relationship_value\": \"\",\n",
    "      \"relationship_type\": \"follows\"\n",
    "    },\n",
    "    {\n",
    "      \"from_\": \"2\",\n",
    "      \"from_type\": \"process\",\n",
    "      \"to\": \"4\",\n",
    "      \"to_type\": \"decision\",\n",
    "      \"type_of_edge\": \"solid\",\n",
    "      \"relationship_value\": \"\",\n",
    "      \"relationship_type\": \"follows\"\n",
    "    },\n",
    "    {\n",
    "      \"from_\": \"4\",\n",
    "      \"from_type\": \"decision\",\n",
    "      \"to\": \"6\",\n",
    "      \"to_type\": \"process\",\n",
    "      \"type_of_edge\": \"solid\",\n",
    "      \"relationship_value\": \"yes\",\n",
    "      \"relationship_type\": \"branches\"\n",
    "    },\n",
    "    {\n",
    "      \"from_\": \"4\",\n",
    "      \"from_type\": \"decision\",\n",
    "      \"to\": \"5\",\n",
    "      \"to_type\": \"process\",\n",
    "      \"type_of_edge\": \"solid\",\n",
    "      \"relationship_value\": \"no\",\n",
    "      \"relationship_type\": \"branches\"\n",
    "    },\n",
    "    {\n",
    "      \"from_\": \"5\",\n",
    "      \"from_type\": \"process\",\n",
    "      \"to\": \"3\",\n",
    "      \"to_type\": \"delay\",\n",
    "      \"type_of_edge\": \"solid\",\n",
    "      \"relationship_value\": \"\",\n",
    "      \"relationship_type\": \"follows\"\n",
    "    },\n",
    "    {\n",
    "      \"from_\": \"3\",\n",
    "      \"from_type\": \"delay\",\n",
    "      \"to\": \"2\",\n",
    "      \"to_type\": \"process\",\n",
    "      \"type_of_edge\": \"dashed\",\n",
    "      \"relationship_value\": \"\",\n",
    "      \"relationship_type\": \"depends_on\"\n",
    "    },\n",
    "    {\n",
    "      \"from_\": \"6\",\n",
    "      \"from_type\": \"process\",\n",
    "      \"to\": \"7\",\n",
    "      \"to_type\": \"terminator\",\n",
    "      \"type_of_edge\": \"solid\",\n",
    "      \"relationship_value\": \"\",\n",
    "      \"relationship_type\": \"follows\"\n",
    "    }\n",
    "  ]\n",
    "}"
   ]
  },
  {
   "cell_type": "code",
   "execution_count": null,
   "metadata": {},
   "outputs": [
    {
     "name": "stdout",
     "output_type": "stream",
     "text": [
      "MATCH (a:Start {id: $from_id}), (b:Process {id: $to_id}) MERGE (a)-[r:FOLLOWS {type_of_edge: $type_of_edge, relationship_value: $relationship_value}]->(b)\n",
      "MATCH (a:Process {id: $from_id}), (b:Decision {id: $to_id}) MERGE (a)-[r:FOLLOWS {type_of_edge: $type_of_edge, relationship_value: $relationship_value}]->(b)\n",
      "MATCH (a:Decision {id: $from_id}), (b:Process {id: $to_id}) MERGE (a)-[r:BRANCHES {type_of_edge: $type_of_edge, relationship_value: $relationship_value}]->(b)\n",
      "MATCH (a:Decision {id: $from_id}), (b:Process {id: $to_id}) MERGE (a)-[r:BRANCHES {type_of_edge: $type_of_edge, relationship_value: $relationship_value}]->(b)\n",
      "MATCH (a:Process {id: $from_id}), (b:Delay {id: $to_id}) MERGE (a)-[r:FOLLOWS {type_of_edge: $type_of_edge, relationship_value: $relationship_value}]->(b)\n",
      "MATCH (a:Delay {id: $from_id}), (b:Process {id: $to_id}) MERGE (a)-[r:DEPENDS_ON {type_of_edge: $type_of_edge, relationship_value: $relationship_value}]->(b)\n",
      "MATCH (a:Process {id: $from_id}), (b:Terminator {id: $to_id}) MERGE (a)-[r:FOLLOWS {type_of_edge: $type_of_edge, relationship_value: $relationship_value}]->(b)\n"
     ]
    }
   ],
   "source": [
    "# Transaction functions, first params is always a transaction object\n",
    "def create_nodes(tx, nodes:dict):\n",
    "    for node in nodes:\n",
    "        query = (\n",
    "            \"MERGE (n:\" + node[\"type_of_node\"].capitalize() + \" {id: $id}) \"\n",
    "            \"SET n.type_of_node = $type_of_node, n.label = $label\"\n",
    "        )\n",
    "        tx.run(\n",
    "            query, id=node[\"id\"], type_of_node=node[\"type_of_node\"], label=node[\"label\"]\n",
    "        )\n",
    "\n",
    "\n",
    "def create_edges(tx, edges:dict):\n",
    "    for edge in edges:\n",
    "        query = (\n",
    "            \"MATCH (a:\"\n",
    "            + edge[\"from_type\"].capitalize()\n",
    "            + \" {id: $from_id}), (b:\"\n",
    "            + edge[\"to_type\"].capitalize()\n",
    "            + \" {id: $to_id}) \"\n",
    "            \"MERGE (a)-[r:\"\n",
    "            + edge[\"relationship_type\"].upper()\n",
    "            + \" {type_of_edge: $type_of_edge, relationship_value: $relationship_value}]->(b)\"\n",
    "        )\n",
    "        # MATCH (a:Start {id: $from_id}), (b:Process {id: $to_id}) MERGE (a)-[r:FOLLOWS {type_of_edge: $type_of_edge, relationship_value: $relationship_value}]->(b)\n",
    "        print(query)\n",
    "        tx.run(\n",
    "            query,\n",
    "            from_id=edge[\"from_\"],\n",
    "            to_id=edge[\"to\"],\n",
    "            type_of_edge=edge[\"type_of_edge\"],\n",
    "            relationship_value=edge[\"relationship_value\"],\n",
    "        )\n",
    "\n",
    "with driver.session() as session:\n",
    "    session.execute_write(create_nodes, data['nodes'])\n",
    "    session.execute_write(create_edges, data['edges'])"
   ]
  },
  {
   "cell_type": "code",
   "execution_count": null,
   "metadata": {},
   "outputs": [],
   "source": []
  }
 ],
 "metadata": {
  "kernelspec": {
   "display_name": ".venv",
   "language": "python",
   "name": "python3"
  },
  "language_info": {
   "codemirror_mode": {
    "name": "ipython",
    "version": 3
   },
   "file_extension": ".py",
   "mimetype": "text/x-python",
   "name": "python",
   "nbconvert_exporter": "python",
   "pygments_lexer": "ipython3",
   "version": "3.12.3"
  }
 },
 "nbformat": 4,
 "nbformat_minor": 2
}
