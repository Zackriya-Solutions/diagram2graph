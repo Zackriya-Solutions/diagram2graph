{
  "cells": [
    {
      "cell_type": "code",
      "execution_count": 1,
      "metadata": {
        "execution": {
          "iopub.execute_input": "2025-03-14T18:30:37.183013Z",
          "iopub.status.busy": "2025-03-14T18:30:37.182824Z",
          "iopub.status.idle": "2025-03-14T18:30:51.937208Z",
          "shell.execute_reply": "2025-03-14T18:30:51.936150Z",
          "shell.execute_reply.started": "2025-03-14T18:30:37.182994Z"
        },
        "id": "44vt8356iuKB",
        "trusted": true
      },
      "outputs": [],
      "source": [
        "!pip install -q \"transformers>=4.49.0\" accelerate datasets \"qwen-vl-utils[decord]==0.0.8\""
      ]
    },
    {
      "cell_type": "code",
      "execution_count": 2,
      "metadata": {
        "execution": {
          "iopub.execute_input": "2025-03-14T18:30:51.938938Z",
          "iopub.status.busy": "2025-03-14T18:30:51.938672Z",
          "iopub.status.idle": "2025-03-14T18:30:56.558101Z",
          "shell.execute_reply": "2025-03-14T18:30:56.557485Z",
          "shell.execute_reply.started": "2025-03-14T18:30:51.938915Z"
        },
        "id": "fN8KmM5UiuKE",
        "trusted": true
      },
      "outputs": [],
      "source": [
        "import os\n",
        "from google.colab import userdata\n",
        "import json\n",
        "import PIL\n",
        "\n",
        "os.environ[\"HF_TOKEN\"] = userdata.get('HF_TOKEN')\n",
        "\n",
        "from datasets import load_dataset\n",
        "dataset = load_dataset(\"zackriya/diagramJSON\",)"
      ]
    },
    {
      "cell_type": "code",
      "execution_count": 3,
      "metadata": {
        "colab": {
          "base_uri": "https://localhost:8080/",
          "height": 86,
          "referenced_widgets": [
            "683f21bfbef44b9b99251e0db0f37000",
            "bba5183a494644b1a54c701540adef36",
            "d39feaa36fc848e6be80e33b05e79cac",
            "e3aa89f1969541ff989621aa0e4272a7",
            "4a3044a241114cdbaa6a7c2c430b354f",
            "12e4db135ae44f62a9e146bd1b83816d",
            "41a74a90eb3c4123b14051f6e23cf11c",
            "4291c3d69fe644bfa08b8cad092303cc",
            "837abe8d0c15442290a48e4ac8c9cac4",
            "aff3b3aa75c145408aad1bcfa183c782",
            "d8d1b8dbef664f488e01d5299647a102"
          ]
        },
        "execution": {
          "iopub.execute_input": "2025-03-14T18:30:56.559662Z",
          "iopub.status.busy": "2025-03-14T18:30:56.559123Z",
          "iopub.status.idle": "2025-03-14T18:32:06.982469Z",
          "shell.execute_reply": "2025-03-14T18:32:06.981434Z",
          "shell.execute_reply.started": "2025-03-14T18:30:56.559637Z"
        },
        "id": "pXeiav5LiuKF",
        "outputId": "e3d5190e-0f0a-410b-e713-ce4d38b0d914",
        "trusted": true
      },
      "outputs": [
        {
          "data": {
            "application/vnd.jupyter.widget-view+json": {
              "model_id": "683f21bfbef44b9b99251e0db0f37000",
              "version_major": 2,
              "version_minor": 0
            },
            "text/plain": [
              "Loading checkpoint shards:   0%|          | 0/2 [00:00<?, ?it/s]"
            ]
          },
          "metadata": {},
          "output_type": "display_data"
        },
        {
          "name": "stderr",
          "output_type": "stream",
          "text": [
            "Using a slow image processor as `use_fast` is unset and a slow processor was saved with this model. `use_fast=True` will be the default behavior in v4.48, even if the model was saved with a slow processor. This will result in minor differences in outputs. You'll still be able to use a slow processor with `use_fast=False`.\n"
          ]
        }
      ],
      "source": [
        "import torch\n",
        "from transformers import Qwen2_5_VLForConditionalGeneration, Qwen2_5_VLProcessor\n",
        "\n",
        "\n",
        "MODEL_ID=\"mohammedsafvan/qwen-2.5-vl-instruct-diagram-json\"\n",
        "MAX_PIXELS = 1280 * 28 * 28\n",
        "MIN_PIXELS = 256 * 28 * 28\n",
        "\n",
        "\n",
        "model = Qwen2_5_VLForConditionalGeneration.from_pretrained(\n",
        "    MODEL_ID,\n",
        "    device_map=\"auto\",\n",
        "    torch_dtype=torch.bfloat16\n",
        ")\n",
        "\n",
        "processor = Qwen2_5_VLProcessor.from_pretrained(\n",
        "    MODEL_ID,\n",
        "    min_pixels=MIN_PIXELS,\n",
        "    max_pixels=MAX_PIXELS\n",
        ")"
      ]
    },
    {
      "cell_type": "code",
      "execution_count": null,
      "metadata": {
        "execution": {
          "iopub.execute_input": "2025-03-14T18:32:18.305992Z",
          "iopub.status.busy": "2025-03-14T18:32:18.305689Z",
          "iopub.status.idle": "2025-03-14T18:32:19.801917Z",
          "shell.execute_reply": "2025-03-14T18:32:19.801215Z",
          "shell.execute_reply.started": "2025-03-14T18:32:18.305969Z"
        },
        "id": "yYqgK7zViuKI",
        "trusted": true
      },
      "outputs": [],
      "source": [
        "train_dataset = dataset['train']\n",
        "eval_dataset = dataset['test']\n",
        "\n",
        "SYSTEM_MESSAGE = \"\"\"You are a Vision Language Model specialized in extracting structured data from visual representations of process and flow diagrams.\n",
        "Your task is to analyze the provided image of a diagram and extract the relevant information into a well-structured JSON format.\n",
        "The diagram includes details such as nodes and edges. each of them have their own attributes.\n",
        "Focus on identifying key data fields and ensuring the output adheres to the requested JSON structure.\n",
        "Provide only the JSON output based on the extracted information. Avoid additional explanations or comments.\"\"\"\n"
      ]
    },
    {
      "cell_type": "code",
      "execution_count": 4,
      "metadata": {
        "execution": {
          "iopub.execute_input": "2025-03-14T18:32:14.218081Z",
          "iopub.status.busy": "2025-03-14T18:32:14.217767Z",
          "iopub.status.idle": "2025-03-14T18:32:14.222765Z",
          "shell.execute_reply": "2025-03-14T18:32:14.221887Z",
          "shell.execute_reply.started": "2025-03-14T18:32:14.218053Z"
        },
        "id": "24FQxUF0iuKH",
        "trusted": true
      },
      "outputs": [],
      "source": [
        "def format_data(entry):\n",
        "    return [\n",
        "        {\n",
        "            \"role\": \"system\",\n",
        "            \"content\": [{\"type\": \"text\", \"text\": SYSTEM_MESSAGE}],\n",
        "        },\n",
        "        {\n",
        "            \"role\": \"user\",\n",
        "            \"content\": [\n",
        "                {\n",
        "                    \"type\": \"image\",\n",
        "                    # this image is handled by qwen_vl_utils's process_visio_Info so no need to worry about pil image or path\n",
        "                    \"image\": entry[\"image\"],\n",
        "                },\n",
        "                {\n",
        "                    \"type\": \"text\",\n",
        "                    \"text\": \"Extract data in JSON format\",\n",
        "                },\n",
        "            ],\n",
        "        },\n",
        "        {\n",
        "            \"role\": \"assistant\",\n",
        "            \"content\": [{\"type\": \"text\", \"text\": entry[\"json_string\"]}],\n",
        "        },\n",
        "    ]"
      ]
    },
    {
      "cell_type": "code",
      "execution_count": null,
      "metadata": {},
      "outputs": [],
      "source": [
        "\n",
        "train_dataset = [ (entry,format_data(entry)) for entry in train_dataset]\n",
        "eval_dataset = [ (entry,format_data(entry)) for entry in eval_dataset]"
      ]
    },
    {
      "cell_type": "code",
      "execution_count": null,
      "metadata": {
        "colab": {
          "base_uri": "https://localhost:8080/",
          "height": 209
        },
        "execution": {
          "iopub.execute_input": "2025-03-14T18:39:02.741877Z",
          "iopub.status.busy": "2025-03-14T18:39:02.741576Z",
          "iopub.status.idle": "2025-03-14T18:39:02.747045Z",
          "shell.execute_reply": "2025-03-14T18:39:02.746151Z",
          "shell.execute_reply.started": "2025-03-14T18:39:02.741853Z"
        },
        "id": "CQyjt91EiuKK",
        "outputId": "9ce63d29-70c5-410b-90c6-d85b0cdca03f",
        "trusted": true
      },
      "outputs": [
        {
          "data": {
            "application/vnd.google.colaboratory.intrinsic+json": {
              "type": "string"
            },
            "text/plain": [
              "'{\"nodes\": [{\"id\": \"1\", \"type_of_node\": \"start\", \"shape\": \"start_event\", \"label\": \"Lamp doesn\\'t work\"}, {\"id\": \"2\", \"type_of_node\": \"decision\", \"shape\": \"gateway\", \"label\": \"Lamp plugged in?\"}, {\"id\": \"3\", \"type_of_node\": \"process\", \"shape\": \"task\", \"label\": \"Plug in lamp\"}, {\"id\": \"4\", \"type_of_node\": \"decision\", \"shape\": \"gateway\", \"label\": \"Lamp plugged in?\"}, {\"id\": \"5\", \"type_of_node\": \"process\", \"shape\": \"task\", \"label\": \"Replace bulb\"}, {\"id\": \"6\", \"type_of_node\": \"process\", \"shape\": \"task\", \"label\": \"PRINT K\"}], \"edges\": [{\"source\": \"1\", \"source_type\": \"start\", \"source_label\": \"Lamp doesn\\'t work\", \"target\": \"2\", \"target_type\": \"decision\", \"target_label\": \"Lamp plugged in?\", \"type_of_edge\": \"solid\", \"relationship_value\": \"\", \"relationship_type\": \"follows\"}, {\"source\": \"2\", \"source_type\": \"decision\", \"source_label\": \"Lamp plugged in?\", \"target\": \"3\", \"target_type\": \"process\", \"target_label\": \"Plug in lamp\", \"type_of_edge\": \"solid\", \"relationship_value\": \"No\", \"relationship_type\": \"branches\"}, {\"source\": \"2\", \"source_type\": \"decision\", \"source_label\": \"Lamp plugged in?\", \"target\": \"4\", \"target_type\": \"decision\", \"target_label\": \"Lamp plugged in?\", \"type_of_edge\": \"solid\", \"relationship_value\": \"Yes\", \"relationship_type\": \"branches\"}, {\"source\": \"4\", \"source_type\": \"decision\", \"source_label\": \"Lamp plugged in?\", \"target\": \"5\", \"target_type\": \"process\", \"target_label\": \"Replace bulb\", \"type_of_edge\": \"solid\", \"relationship_value\": \"Yes\", \"relationship_type\": \"branches\"}, {\"source\": \"4\", \"source_type\": \"decision\", \"source_label\": \"Lamp plugged in?\", \"target\": \"6\", \"target_type\": \"process\", \"target_label\": \"PRINT K\", \"type_of_edge\": \"solid\", \"relationship_value\": \"No\", \"relationship_type\": \"branches\"}]}'"
            ]
          },
          "execution_count": 6,
          "metadata": {},
          "output_type": "execute_result"
        }
      ],
      "source": [
        "entry, conversation = eval_dataset[10]\n",
        "label = entry['json_string']\n",
        "conversation = conversation[:2]\n",
        "label"
      ]
    },
    {
      "cell_type": "code",
      "execution_count": 6,
      "metadata": {
        "execution": {
          "iopub.execute_input": "2025-03-14T18:34:14.113109Z",
          "iopub.status.busy": "2025-03-14T18:34:14.112783Z",
          "iopub.status.idle": "2025-03-14T18:34:14.118720Z",
          "shell.execute_reply": "2025-03-14T18:34:14.117798Z",
          "shell.execute_reply.started": "2025-03-14T18:34:14.113080Z"
        },
        "id": "AJtYBW5HiuKL",
        "trusted": true
      },
      "outputs": [],
      "source": [
        "from qwen_vl_utils import process_vision_info\n",
        "\n",
        "def run_inference(model, processor, conversation, max_new_tokens=1024, device='cuda'):\n",
        "    text = processor.apply_chat_template(conversation, tokenize=False, add_generation_prompt=True)\n",
        "    image_inputs, _ = process_vision_info(conversation)\n",
        "\n",
        "    inputs = processor(\n",
        "        text=[text],\n",
        "        images=image_inputs,\n",
        "        return_tensors=\"pt\",\n",
        "    )\n",
        "    inputs = inputs.to(device)\n",
        "\n",
        "    generated_ids = model.generate(**inputs, max_new_tokens=max_new_tokens)\n",
        "    generated_ids_trimmed = [\n",
        "        out_ids[len(in_ids):]\n",
        "        for in_ids, out_ids\n",
        "        in zip(inputs.input_ids, generated_ids)\n",
        "    ]\n",
        "\n",
        "    output_text = processor.batch_decode(\n",
        "        generated_ids_trimmed,\n",
        "        skip_special_tokens=True,\n",
        "        clean_up_tokenization_spaces=False\n",
        "    )\n",
        "    return output_text[0]"
      ]
    },
    {
      "cell_type": "code",
      "execution_count": null,
      "metadata": {
        "colab": {
          "base_uri": "https://localhost:8080/",
          "height": 209
        },
        "execution": {
          "iopub.execute_input": "2025-03-14T18:39:07.456147Z",
          "iopub.status.busy": "2025-03-14T18:39:07.455834Z",
          "iopub.status.idle": "2025-03-14T18:39:41.435084Z",
          "shell.execute_reply": "2025-03-14T18:39:41.434317Z",
          "shell.execute_reply.started": "2025-03-14T18:39:07.456119Z"
        },
        "id": "kP1WcU2KiuKL",
        "outputId": "0c137e08-fef1-4cef-aad9-d476e2f1ce8d",
        "trusted": true
      },
      "outputs": [
        {
          "data": {
            "application/vnd.google.colaboratory.intrinsic+json": {
              "type": "string"
            },
            "text/plain": [
              "'{\"nodes\": [{\"id\": \"1\", \"type_of_node\": \"start\", \"shape\": \"start_event\", \"label\": \"Lamp doesn\\'t work\"}, {\"id\": \"2\", \"type_of_node\": \"decision\", \"shape\": \"gateway\", \"label\": \"Lamp plugged in?\"}, {\"id\": \"3\", \"type_of_node\": \"process\", \"shape\": \"task\", \"label\": \"Plug in lamp\"}, {\"id\": \"4\", \"type_of_node\": \"decision\", \"shape\": \"gateway\", \"label\": \"Lamp plugged in?\"}, {\"id\": \"5\", \"type_of_node\": \"process\", \"shape\": \"task\", \"label\": \"Replace bulb\"}, {\"id\": \"6\", \"type_of_node\": \"terminator\", \"shape\": \"end_event\", \"label\": \"PRINT K\"}], \"edges\": [{\"source\": \"1\", \"source_type\": \"start\", \"source_label\": \"Lamp doesn\\'t work\", \"target\": \"2\", \"target_type\": \"decision\", \"target_label\": \"Lamp plugged in?\", \"type_of_edge\": \"solid\", \"relationship_value\": \"\", \"relationship_type\": \"follows\"}, {\"source\": \"2\", \"source_type\": \"decision\", \"source_label\": \"Lamp plugged in?\", \"target\": \"3\", \"target_type\": \"process\", \"target_label\": \"Plug in lamp\", \"type_of_edge\": \"solid\", \"relationship_value\": \"No\", \"relationship_type\": \"branches\"}, {\"source\": \"2\", \"source_type\": \"decision\", \"source_label\": \"Lamp plugged in?\", \"target\": \"4\", \"target_type\": \"decision\", \"target_label\": \"Lamp plugged in?\", \"type_of_edge\": \"solid\", \"relationship_value\": \"Yes\", \"relationship_type\": \"branches\"}, {\"source\": \"4\", \"source_type\": \"decision\", \"source_label\": \"Lamp plugged in?\", \"target\": \"5\", \"target_type\": \"process\", \"target_label\": \"Replace bulb\", \"type_of_edge\": \"solid\", \"relationship_value\": \"Yes\", \"relationship_type\": \"branches\"}, {\"source\": \"4\", \"source_type\": \"decision\", \"source_label\": \"Lamp plugged in?\", \"target\": \"6\", \"target_type\": \"terminator\", \"target_label\": \"PRINT K\", \"type_of_edge\": \"solid\", \"relationship_value\": \"No\", \"relationship_type\": \"branches\"}]}'"
            ]
          },
          "execution_count": 8,
          "metadata": {},
          "output_type": "execute_result"
        }
      ],
      "source": [
        "generated_label = run_inference(model, processor, conversation)\n",
        "generated_label"
      ]
    },
    {
      "cell_type": "code",
      "execution_count": null,
      "metadata": {
        "colab": {
          "base_uri": "https://localhost:8080/",
          "height": 672
        },
        "execution": {
          "iopub.execute_input": "2025-03-14T18:39:41.436323Z",
          "iopub.status.busy": "2025-03-14T18:39:41.436047Z",
          "iopub.status.idle": "2025-03-14T18:39:41.455915Z",
          "shell.execute_reply": "2025-03-14T18:39:41.455231Z",
          "shell.execute_reply.started": "2025-03-14T18:39:41.436292Z"
        },
        "id": "oSykx4CXiuKL",
        "outputId": "bbf6cf9c-c8f2-410b-8ca5-28825c6b32f0",
        "trusted": true
      },
      "outputs": [
        {
          "data": {
            "image/jpeg": "[encoded data removed]",
            "image/png": "[encoded data removed]",
            "text/plain": [
              "<PIL.PngImagePlugin.PngImageFile image mode=RGB size=513x655>"
            ]
          },
          "execution_count": 9,
          "metadata": {},
          "output_type": "execute_result"
        }
      ],
      "source": [
        "entry['image']"
      ]
    },
    {
      "cell_type": "code",
      "execution_count": null,
      "metadata": {
        "colab": {
          "base_uri": "https://localhost:8080/"
        },
        "execution": {
          "iopub.execute_input": "2025-03-14T18:40:55.563502Z",
          "iopub.status.busy": "2025-03-14T18:40:55.563163Z",
          "iopub.status.idle": "2025-03-14T18:40:55.569909Z",
          "shell.execute_reply": "2025-03-14T18:40:55.569188Z",
          "shell.execute_reply.started": "2025-03-14T18:40:55.563472Z"
        },
        "id": "S1XaV_1piuKN",
        "outputId": "cd69b9d6-df95-452a-b9be-264711aa4ecb",
        "trusted": true
      },
      "outputs": [
        {
          "data": {
            "text/plain": [
              "{'nodes': [{'id': '1',\n",
              "   'type_of_node': 'start',\n",
              "   'shape': 'start_event',\n",
              "   'label': \"Lamp doesn't work\"},\n",
              "  {'id': '2',\n",
              "   'type_of_node': 'decision',\n",
              "   'shape': 'gateway',\n",
              "   'label': 'Lamp plugged in?'},\n",
              "  {'id': '3',\n",
              "   'type_of_node': 'process',\n",
              "   'shape': 'task',\n",
              "   'label': 'Plug in lamp'},\n",
              "  {'id': '4',\n",
              "   'type_of_node': 'decision',\n",
              "   'shape': 'gateway',\n",
              "   'label': 'Lamp plugged in?'},\n",
              "  {'id': '5',\n",
              "   'type_of_node': 'process',\n",
              "   'shape': 'task',\n",
              "   'label': 'Replace bulb'},\n",
              "  {'id': '6',\n",
              "   'type_of_node': 'terminator',\n",
              "   'shape': 'end_event',\n",
              "   'label': 'PRINT K'}],\n",
              " 'edges': [{'source': '1',\n",
              "   'source_type': 'start',\n",
              "   'source_label': \"Lamp doesn't work\",\n",
              "   'target': '2',\n",
              "   'target_type': 'decision',\n",
              "   'target_label': 'Lamp plugged in?',\n",
              "   'type_of_edge': 'solid',\n",
              "   'relationship_value': '',\n",
              "   'relationship_type': 'follows'},\n",
              "  {'source': '2',\n",
              "   'source_type': 'decision',\n",
              "   'source_label': 'Lamp plugged in?',\n",
              "   'target': '3',\n",
              "   'target_type': 'process',\n",
              "   'target_label': 'Plug in lamp',\n",
              "   'type_of_edge': 'solid',\n",
              "   'relationship_value': 'No',\n",
              "   'relationship_type': 'branches'},\n",
              "  {'source': '2',\n",
              "   'source_type': 'decision',\n",
              "   'source_label': 'Lamp plugged in?',\n",
              "   'target': '4',\n",
              "   'target_type': 'decision',\n",
              "   'target_label': 'Lamp plugged in?',\n",
              "   'type_of_edge': 'solid',\n",
              "   'relationship_value': 'Yes',\n",
              "   'relationship_type': 'branches'},\n",
              "  {'source': '4',\n",
              "   'source_type': 'decision',\n",
              "   'source_label': 'Lamp plugged in?',\n",
              "   'target': '5',\n",
              "   'target_type': 'process',\n",
              "   'target_label': 'Replace bulb',\n",
              "   'type_of_edge': 'solid',\n",
              "   'relationship_value': 'Yes',\n",
              "   'relationship_type': 'branches'},\n",
              "  {'source': '4',\n",
              "   'source_type': 'decision',\n",
              "   'source_label': 'Lamp plugged in?',\n",
              "   'target': '6',\n",
              "   'target_type': 'terminator',\n",
              "   'target_label': 'PRINT K',\n",
              "   'type_of_edge': 'solid',\n",
              "   'relationship_value': 'No',\n",
              "   'relationship_type': 'branches'}]}"
            ]
          },
          "execution_count": 10,
          "metadata": {},
          "output_type": "execute_result"
        }
      ],
      "source": [
        "json.loads(generated_label)"
      ]
    },
    {
      "cell_type": "code",
      "execution_count": 8,
      "metadata": {
        "colab": {
          "base_uri": "https://localhost:8080/"
        },
        "id": "TAPT2X3JiuKO",
        "outputId": "e041f4d2-ad1b-4c63-a323-d7fd2c677866",
        "trusted": true
      },
      "outputs": [
        {
          "name": "stdout",
          "output_type": "stream",
          "text": [
            "Requirement already satisfied: nltk in /usr/local/lib/python3.11/dist-packages (3.9.1)\n",
            "Requirement already satisfied: click in /usr/local/lib/python3.11/dist-packages (from nltk) (8.1.8)\n",
            "Requirement already satisfied: joblib in /usr/local/lib/python3.11/dist-packages (from nltk) (1.4.2)\n",
            "Requirement already satisfied: regex>=2021.8.3 in /usr/local/lib/python3.11/dist-packages (from nltk) (2024.11.6)\n",
            "Requirement already satisfied: tqdm in /usr/local/lib/python3.11/dist-packages (from nltk) (4.67.1)\n"
          ]
        }
      ],
      "source": [
        "!pip install nltk\n",
        "import nltk"
      ]
    },
    {
      "cell_type": "code",
      "execution_count": 12,
      "metadata": {
        "id": "rNrkj7BP9Lun"
      },
      "outputs": [],
      "source": [
        "#!rm -rf images results output.csv"
      ]
    },
    {
      "cell_type": "code",
      "execution_count": null,
      "metadata": {
        "colab": {
          "base_uri": "https://localhost:8080/"
        },
        "id": "llK_z6UsnzxB",
        "outputId": "0e4db6b0-9c5b-4f23-a612-2c6654b8d664"
      },
      "outputs": [
        {
          "name": "stdout",
          "output_type": "stream",
          "text": [
            "===================================================\n",
            "Generating for 1 with image\n",
            "Inference time: 57.6303 seconds\n",
            "Processed 1/20 images, Score = 44 normalized score = 0.01818181818181818\n",
            "==================================================\n",
            "===================================================\n",
            "Generating for 2 with image\n",
            "Inference time: 47.9817 seconds\n",
            "Processed 2/20 images, Score = 753 normalized score = 0.26636009904492397\n",
            "==================================================\n",
            "===================================================\n",
            "Generating for 3 with image\n",
            "Inference time: 70.6463 seconds\n",
            "Processed 3/20 images, Score = 672 normalized score = 0.22325581395348837\n",
            "==================================================\n",
            "===================================================\n",
            "Generating for 4 with image\n",
            "Inference time: 30.4462 seconds\n",
            "Processed 4/20 images, Score = 27 normalized score = 0.020316027088036117\n",
            "==================================================\n",
            "===================================================\n",
            "Generating for 5 with image\n",
            "Inference time: 32.3536 seconds\n",
            "Processed 5/20 images, Score = 0 normalized score = 0.0\n",
            "==================================================\n",
            "===================================================\n",
            "Generating for 6 with image\n",
            "Inference time: 55.6261 seconds\n",
            "Processed 6/20 images, Score = 200 normalized score = 0.08097165991902834\n",
            "==================================================\n",
            "===================================================\n",
            "Generating for 7 with image\n",
            "Inference time: 45.2298 seconds\n",
            "Processed 7/20 images, Score = 286 normalized score = 0.13289962825278812\n",
            "==================================================\n",
            "===================================================\n",
            "Generating for 8 with image\n",
            "Inference time: 33.4335 seconds\n",
            "Processed 8/20 images, Score = 0 normalized score = 0.0\n",
            "==================================================\n",
            "===================================================\n",
            "Generating for 9 with image\n",
            "Inference time: 42.6206 seconds\n",
            "Processed 9/20 images, Score = 54 normalized score = 0.029157667386609073\n",
            "==================================================\n",
            "===================================================\n",
            "Generating for 10 with image\n",
            "Inference time: 33.2572 seconds\n",
            "Processed 10/20 images, Score = 253 normalized score = 0.17424242424242425\n",
            "==================================================\n",
            "===================================================\n",
            "Generating for 11 with image\n",
            "Inference time: 40.5513 seconds\n",
            "Processed 11/20 images, Score = 27 normalized score = 0.01549053356282272\n",
            "==================================================\n",
            "===================================================\n",
            "Generating for 12 with image\n",
            "Inference time: 66.8710 seconds\n",
            "Processed 12/20 images, Score = 44 normalized score = 0.016070124178232285\n",
            "==================================================\n",
            "===================================================\n",
            "Generating for 13 with image\n",
            "Inference time: 80.7976 seconds\n",
            "Error saving JSON file for 12, : Unterminated string starting at: line 1 column 3451 (char 3450)!!!!!!!!!!!!!!!!!!!!!!!!\n",
            "json is : {\"nodes\": [{\"id\": \"1\", \"type_of_node\": \"start\", \"shape\": \"start_event\", \"label\": \"START\"}, {\"id\": \"2\", \"type_of_node\": \"process\", \"shape\": \"task\", \"label\": \"Greet\"}, {\"id\": \"3\", \"type_of_node\": \"decision\", \"shape\": \"gateway\", \"label\": \"FAILURE\"}, {\"id\": \"4\", \"type_of_node\": \"process\", \"shape\": \"task\", \"label\": \"ACCEPT NO COMMANDS\"}, {\"id\": \"5\", \"type_of_node\": \"process\", \"shape\": \"task\", \"label\": \"Enter ID\"}, {\"id\": \"6\", \"type_of_node\": \"process\", \"shape\": \"task\", \"label\": \"INPUT DRIVER INFORMATION\"}, {\"id\": \"7\", \"type_of_node\": \"process\", \"shape\": \"task\", \"label\": \"Verify finger scan\"}, {\"id\": \"8\", \"type_of_node\": \"process\", \"shape\": \"task\", \"label\": \"SCAN FINGER AGAIN\"}, {\"id\": \"9\", \"type_of_node\": \"decision\", \"shape\": \"gateway\", \"label\": \"1ST AND 2ND SCAN MATCH?\"}, {\"id\": \"10\", \"type_of_node\": \"process\", \"shape\": \"task\", \"label\": \"Login\"}, {\"id\": \"11\", \"type_of_node\": \"terminator\", \"shape\": \"end_event\", \"label\": \"STOP\"}], \"edges\": [{\"source\": \"1\", \"source_type\": \"start\", \"source_label\": \"START\", \"target\": \"2\", \"target_type\": \"process\", \"target_label\": \"Greet\", \"type_of_edge\": \"solid\", \"relationship_value\": \"\", \"relationship_type\": \"follows\"}, {\"source\": \"2\", \"source_type\": \"process\", \"source_label\": \"Greet\", \"target\": \"3\", \"target_type\": \"decision\", \"target_label\": \"FAILURE\", \"type_of_edge\": \"solid\", \"relationship_value\": \"\", \"relationship_type\": \"follows\"}, {\"source\": \"3\", \"source_type\": \"decision\", \"source_label\": \"FAILURE\", \"target\": \"4\", \"target_type\": \"process\", \"target_label\": \"ACCEPT NO COMMANDS\", \"type_of_edge\": \"solid\", \"relationship_value\": \"\", \"relationship_type\": \"branches\"}, {\"source\": \"4\", \"source_type\": \"process\", \"source_label\": \"ACCEPT NO COMMANDS\", \"target\": \"1\", \"target_type\": \"start\", \"target_label\": \"START\", \"type_of_edge\": \"solid\", \"relationship_value\": \"\", \"relationship_type\": \"follows\"}, {\"source\": \"5\", \"source_type\": \"process\", \"source_label\": \"Enter ID\", \"target\": \"6\", \"target_type\": \"process\", \"target_label\": \"INPUT DRIVER INFORMATION\", \"type_of_edge\": \"solid\", \"relationship_value\": \"\", \"relationship_type\": \"follows\"}, {\"source\": \"6\", \"source_type\": \"process\", \"source_label\": \"INPUT DRIVER INFORMATION\", \"target\": \"7\", \"target_type\": \"process\", \"target_label\": \"Verify finger scan\", \"type_of_edge\": \"solid\", \"relationship_value\": \"\", \"relationship_type\": \"follows\"}, {\"source\": \"7\", \"source_type\": \"process\", \"source_label\": \"Verify finger scan\", \"target\": \"8\", \"target_type\": \"process\", \"target_label\": \"SCAN FINGER AGAIN\", \"type_of_edge\": \"solid\", \"relationship_value\": \"\", \"relationship_type\": \"follows\"}, {\"source\": \"8\", \"source_type\": \"process\", \"source_label\": \"SCAN FINGER AGAIN\", \"target\": \"9\", \"target_type\": \"decision\", \"target_label\": \"1ST AND 2ND SCAN MATCH?\", \"type_of_edge\": \"solid\", \"relationship_value\": \"\", \"relationship_type\": \"follows\"}, {\"source\": \"9\", \"source_type\": \"decision\", \"source_label\": \"1ST AND 2ND SCAN MATCH?\", \"target\": \"10\", \"target_type\": \"process\", \"target_label\": \"Login\", \"type_of_edge\": \"solid\", \"relationship_value\": \"YES\", \"relationship_type\": \"branches\"}, {\"source\": \"10\", \"source_type\": \"process\", \"source_label\": \"Login\", \"target\": \"11\", \"target_type\": \"terminator\", \"target_label\": \"STOP\", \"type_of_edge\": \"solid\", \"relationship_value\": \"\", \"relationship_type\": \"follows\"}, {\"source\": \"9\", \"source_type\": \"decision\", \"source_label\": \"1ST AND 2ND SCAN MATCH?\", \"target\": \"8\", \"target_type\": \"process\", \"target_label\": \"SCAN FINGER AGAIN\", \"type\n",
            "Processed 13/20 images, Score = 924 normalized score = 0.26079593564775616\n",
            "==================================================\n",
            "===================================================\n",
            "Generating for 14 with image\n",
            "Inference time: 24.4930 seconds\n",
            "Processed 14/20 images, Score = 472 normalized score = 0.31011826544021026\n",
            "==================================================\n",
            "===================================================\n",
            "Generating for 15 with image\n",
            "Inference time: 68.1245 seconds\n",
            "Processed 15/20 images, Score = 399 normalized score = 0.12295839753466872\n",
            "==================================================\n",
            "===================================================\n",
            "Generating for 16 with image\n",
            "Inference time: 52.1957 seconds\n",
            "Processed 16/20 images, Score = 164 normalized score = 0.07308377896613191\n",
            "==================================================\n",
            "===================================================\n",
            "Generating for 17 with image\n",
            "Inference time: 47.0924 seconds\n",
            "Processed 17/20 images, Score = 60 normalized score = 0.029440628066732092\n",
            "==================================================\n",
            "===================================================\n",
            "Generating for 18 with image\n",
            "Inference time: 77.6008 seconds\n",
            "Error saving JSON file for 17, : Expecting value: line 1 column 3693 (char 3692)!!!!!!!!!!!!!!!!!!!!!!!!\n",
            "json is : {\"nodes\": [{\"id\": \"1\", \"type_of_node\": \"start\", \"shape\": \"start_event\", \"label\": \"Start\"}, {\"id\": \"2\", \"type_of_node\": \"process\", \"shape\": \"task\", \"label\": \"Documentation Work\"}, {\"id\": \"3\", \"type_of_node\": \"process\", \"shape\": \"task\", \"label\": \"Print cycle count sheets\"}, {\"id\": \"4\", \"type_of_node\": \"process\", \"shape\": \"task\", \"label\": \"Perform physical count of stock\"}, {\"id\": \"5\", \"type_of_node\": \"process\", \"shape\": \"task\", \"label\": \"Enter physical counts\"}, {\"id\": \"6\", \"type_of_node\": \"process\", \"shape\": \"task\", \"label\": \"Report differences\"}, {\"id\": \"7\", \"type_of_node\": \"decision\", \"shape\": \"gateway\", \"label\": \"Recount inventory?\"}, {\"id\": \"8\", \"type_of_node\": \"process\", \"shape\": \"task\", \"label\": \"Post inventory documents\"}, {\"id\": \"9\", \"type_of_node\": \"terminator\", \"shape\": \"end_event\", \"label\": \"End\"}, {\"id\": \"10\", \"type_of_node\": \"process\", \"shape\": \"task\", \"label\": \"Display documents\"}, {\"id\": \"11\", \"type_of_node\": \"process\", \"shape\": \"task\", \"label\": \"Perform physical count of stock\"}], \"edges\": [{\"source\": \"1\", \"source_type\": \"start\", \"source_label\": \"Start\", \"target\": \"2\", \"target_type\": \"process\", \"target_label\": \"Documentation Work\", \"type_of_edge\": \"solid\", \"relationship_value\": \"\", \"relationship_type\": \"follows\"}, {\"source\": \"2\", \"source_type\": \"process\", \"source_label\": \"Documentation Work\", \"target\": \"3\", \"target_type\": \"process\", \"target_label\": \"Print cycle count sheets\", \"type_of_edge\": \"solid\", \"relationship_value\": \"\", \"relationship_type\": \"follows\"}, {\"source\": \"3\", \"source_type\": \"process\", \"source_label\": \"Print cycle count sheets\", \"target\": \"4\", \"target_type\": \"process\", \"target_label\": \"Perform physical count of stock\", \"type_of_edge\": \"solid\", \"relationship_value\": \"\", \"relationship_type\": \"follows\"}, {\"source\": \"4\", \"source_type\": \"process\", \"source_label\": \"Perform physical count of stock\", \"target\": \"5\", \"target_type\": \"process\", \"target_label\": \"Enter physical counts\", \"type_of_edge\": \"solid\", \"relationship_value\": \"\", \"relationship_type\": \"follows\"}, {\"source\": \"5\", \"source_type\": \"process\", \"source_label\": \"Enter physical counts\", \"target\": \"6\", \"target_type\": \"process\", \"target_label\": \"Report differences\", \"type_of_edge\": \"solid\", \"relationship_value\": \"\", \"relationship_type\": \"follows\"}, {\"source\": \"6\", \"source_type\": \"process\", \"source_label\": \"Report differences\", \"target\": \"7\", \"target_type\": \"decision\", \"target_label\": \"Recount inventory?\", \"type_of_edge\": \"solid\", \"relationship_value\": \"\", \"relationship_type\": \"follows\"}, {\"source\": \"7\", \"source_type\": \"decision\", \"source_label\": \"Recount inventory?\", \"target\": \"8\", \"target_type\": \"process\", \"target_label\": \"Post inventory documents\", \"type_of_edge\": \"solid\", \"relationship_value\": \"No\", \"relationship_type\": \"branches\"}, {\"source\": \"7\", \"source_type\": \"decision\", \"source_label\": \"Recount inventory?\", \"target\": \"10\", \"target_type\": \"process\", \"target_label\": \"Display documents\", \"type_of_edge\": \"solid\", \"relationship_value\": \"Yes\", \"relationship_type\": \"branches\"}, {\"source\": \"8\", \"source_type\": \"process\", \"source_label\": \"Post inventory documents\", \"target\": \"9\", \"target_type\": \"terminator\", \"target_label\": \"End\", \"type_of_edge\": \"solid\", \"relationship_value\": \"\", \"relationship_type\": \"follows\"}, {\"source\": \"10\", \"source_type\": \"process\", \"source_label\": \"Display documents\", \"target\": \"11\", \"target_type\": \"process\", \"target_label\": \"Perform physical count of stock\", \"type_of_edge\": \"solid\", \"relationship_value\": \"\", \"relationship_type\": \"follows\"}, {\"source\": \"11\", \"source_type\": \"process\", \"source_label\": \"Perform physical count of stock\", \"target\": \"6\", \"target_type\": \"process\", \"target_label\": \"Report differences\", \"type_of_edge\":\n",
            "Processed 18/20 images, Score = 1016 normalized score = 0.23106663634296112\n",
            "==================================================\n",
            "===================================================\n",
            "Generating for 19 with image\n",
            "Inference time: 50.7855 seconds\n",
            "Processed 19/20 images, Score = 265 normalized score = 0.1287032540067994\n",
            "==================================================\n",
            "===================================================\n",
            "Generating for 20 with image\n",
            "Inference time: 44.0508 seconds\n",
            "Processed 20/20 images, Score = 21 normalized score = 0.010730710270822688\n",
            "==================================================\n"
          ]
        }
      ],
      "source": [
        "import os\n",
        "import time\n",
        "import json\n",
        "import csv\n",
        "import nltk\n",
        "\n",
        "os.makedirs('images', exist_ok=True)\n",
        "os.makedirs('results', exist_ok=True)\n",
        "\n",
        "\n",
        "for idx, (entry, conversation) in enumerate(eval_dataset):\n",
        "  label = entry['json_string']\n",
        "  conversation = conversation[:2]\n",
        "  filename= entry['filename'].split('.')[0]\n",
        "  print(\"===================================================\")\n",
        "  print(f'Generating for {idx+1} with image')\n",
        "  start_time = time.perf_counter()\n",
        "  generated_label = run_inference(model, processor, conversation)\n",
        "  end_time = time.perf_counter()\n",
        "  inference_time = end_time - start_time\n",
        "  print(f\"Inference time: {inference_time:0.4f} seconds\")\n",
        "\n",
        "  # Save the generated JSON\n",
        "  output_filename = os.path.join('results', f\"{filename}.json\")\n",
        "  try:\n",
        "    with open(output_filename, 'w') as f:\n",
        "        json.dump(json.loads(generated_label), f, indent=4)\n",
        "  except Exception as e:\n",
        "    print(f\"Error saving JSON file for {idx}, : {e}!!!!!!!!!!!!!!!!!!!!!!!!\")\n",
        "    print(f\"\"\"json is : {generated_label}\"\"\")\n",
        "\n",
        "  image_filename = os.path.join('images', f\"{filename}.png\")\n",
        "  image = entry['image']\n",
        "  image_size = str(image.size)\n",
        "  image.save(image_filename)\n",
        "\n",
        "  score = nltk.edit_distance(generated_label, label)\n",
        "  normalized_score = score / max(len(generated_label), len(label))\n",
        "  print(f\"Processed {idx+1}/{len(eval_dataset)} images, Score = {score} normalized score = {normalized_score}\")\n",
        "  print(\"==================================================\")\n",
        "\n",
        "  with open('output.csv', 'a', newline='') as csvfile:\n",
        "    csv_writer = csv.writer(csvfile)\n",
        "    csv_writer.writerow([filename,inference_time,image_size, normalized_score, score])"
      ]
    },
    {
      "cell_type": "code",
      "execution_count": 14,
      "metadata": {
        "colab": {
          "base_uri": "https://localhost:8080/"
        },
        "id": "Bz7kZpn47_97",
        "outputId": "c1045783-3bf9-4795-b4ba-e9c27439ae62"
      },
      "outputs": [
        {
          "name": "stdout",
          "output_type": "stream",
          "text": [
            "  adding: results/ (stored 0%)\n",
            "  adding: results/728.json (deflated 86%)\n",
            "  adding: results/930.json (deflated 88%)\n",
            "  adding: results/813.json (deflated 85%)\n",
            "  adding: results/652.json (stored 0%)\n",
            "  adding: results/259.json (deflated 88%)\n",
            "  adding: results/39.json (deflated 81%)\n",
            "  adding: results/937.json (stored 0%)\n",
            "  adding: results/563.json (deflated 88%)\n",
            "  adding: results/171.json (deflated 88%)\n",
            "  adding: results/418.json (deflated 88%)\n",
            "  adding: results/45.json (deflated 87%)\n",
            "  adding: results/914.json (deflated 88%)\n",
            "  adding: results/332.json (deflated 85%)\n",
            "  adding: results/634.json (deflated 90%)\n",
            "  adding: results/701.json (deflated 86%)\n",
            "  adding: results/113.json (deflated 89%)\n",
            "  adding: results/345.json (deflated 88%)\n",
            "  adding: results/76.json (deflated 87%)\n",
            "  adding: results/37.json (deflated 88%)\n",
            "  adding: results/49.json (deflated 84%)\n",
            "  adding: images/ (stored 0%)\n",
            "  adding: images/930.png (deflated 3%)\n",
            "  adding: images/37.png (deflated 0%)\n",
            "  adding: images/813.png (deflated 2%)\n",
            "  adding: images/332.png (deflated 2%)\n",
            "  adding: images/39.png (deflated 5%)\n",
            "  adding: images/418.png (deflated 2%)\n",
            "  adding: images/49.png (deflated 9%)\n",
            "  adding: images/259.png (deflated 10%)\n",
            "  adding: images/634.png (deflated 14%)\n",
            "  adding: images/45.png (deflated 10%)\n",
            "  adding: images/728.png (deflated 6%)\n",
            "  adding: images/937.png (deflated 5%)\n",
            "  adding: images/345.png (deflated 3%)\n",
            "  adding: images/76.png (deflated 9%)\n",
            "  adding: images/652.png (deflated 1%)\n",
            "  adding: images/171.png (deflated 3%)\n",
            "  adding: images/113.png (deflated 12%)\n",
            "  adding: images/701.png (deflated 11%)\n",
            "  adding: images/914.png (deflated 7%)\n",
            "  adding: images/563.png (deflated 8%)\n",
            "  adding: output.csv (deflated 51%)\n"
          ]
        }
      ],
      "source": [
        "!zip -r it2.zip results/ images/ output.csv"
      ]
    },
    {
      "cell_type": "code",
      "execution_count": null,
      "metadata": {
        "id": "ocyqN0TW9sj0"
      },
      "outputs": [],
      "source": []
    }
  ],
  "metadata": {
    "accelerator": "GPU",
    "colab": {
      "gpuType": "T4",
      "provenance": []
    },
    "kaggle": {
      "accelerator": "gpu",
      "dataSources": [],
      "dockerImageVersionId": 30919,
      "isGpuEnabled": true,
      "isInternetEnabled": true,
      "language": "python",
      "sourceType": "notebook"
    },
    "kernelspec": {
      "display_name": "Python 3",
      "name": "python3"
    },
    "language_info": {
      "codemirror_mode": {
        "name": "ipython",
        "version": 3
      },
      "file_extension": ".py",
      "mimetype": "text/x-python",
      "name": "python",
      "nbconvert_exporter": "python",
      "pygments_lexer": "ipython3",
      "version": "3.10.12"
    },
    "widgets": {
      "application/vnd.jupyter.widget-state+json": {
        "12e4db135ae44f62a9e146bd1b83816d": {
          "model_module": "@jupyter-widgets/base",
          "model_module_version": "1.2.0",
          "model_name": "LayoutModel",
          "state": {
            "_model_module": "@jupyter-widgets/base",
            "_model_module_version": "1.2.0",
            "_model_name": "LayoutModel",
            "_view_count": null,
            "_view_module": "@jupyter-widgets/base",
            "_view_module_version": "1.2.0",
            "_view_name": "LayoutView",
            "align_content": null,
            "align_items": null,
            "align_self": null,
            "border": null,
            "bottom": null,
            "display": null,
            "flex": null,
            "flex_flow": null,
            "grid_area": null,
            "grid_auto_columns": null,
            "grid_auto_flow": null,
            "grid_auto_rows": null,
            "grid_column": null,
            "grid_gap": null,
            "grid_row": null,
            "grid_template_areas": null,
            "grid_template_columns": null,
            "grid_template_rows": null,
            "height": null,
            "justify_content": null,
            "justify_items": null,
            "left": null,
            "margin": null,
            "max_height": null,
            "max_width": null,
            "min_height": null,
            "min_width": null,
            "object_fit": null,
            "object_position": null,
            "order": null,
            "overflow": null,
            "overflow_x": null,
            "overflow_y": null,
            "padding": null,
            "right": null,
            "top": null,
            "visibility": null,
            "width": null
          }
        },
        "41a74a90eb3c4123b14051f6e23cf11c": {
          "model_module": "@jupyter-widgets/controls",
          "model_module_version": "1.5.0",
          "model_name": "DescriptionStyleModel",
          "state": {
            "_model_module": "@jupyter-widgets/controls",
            "_model_module_version": "1.5.0",
            "_model_name": "DescriptionStyleModel",
            "_view_count": null,
            "_view_module": "@jupyter-widgets/base",
            "_view_module_version": "1.2.0",
            "_view_name": "StyleView",
            "description_width": ""
          }
        },
        "4291c3d69fe644bfa08b8cad092303cc": {
          "model_module": "@jupyter-widgets/base",
          "model_module_version": "1.2.0",
          "model_name": "LayoutModel",
          "state": {
            "_model_module": "@jupyter-widgets/base",
            "_model_module_version": "1.2.0",
            "_model_name": "LayoutModel",
            "_view_count": null,
            "_view_module": "@jupyter-widgets/base",
            "_view_module_version": "1.2.0",
            "_view_name": "LayoutView",
            "align_content": null,
            "align_items": null,
            "align_self": null,
            "border": null,
            "bottom": null,
            "display": null,
            "flex": null,
            "flex_flow": null,
            "grid_area": null,
            "grid_auto_columns": null,
            "grid_auto_flow": null,
            "grid_auto_rows": null,
            "grid_column": null,
            "grid_gap": null,
            "grid_row": null,
            "grid_template_areas": null,
            "grid_template_columns": null,
            "grid_template_rows": null,
            "height": null,
            "justify_content": null,
            "justify_items": null,
            "left": null,
            "margin": null,
            "max_height": null,
            "max_width": null,
            "min_height": null,
            "min_width": null,
            "object_fit": null,
            "object_position": null,
            "order": null,
            "overflow": null,
            "overflow_x": null,
            "overflow_y": null,
            "padding": null,
            "right": null,
            "top": null,
            "visibility": null,
            "width": null
          }
        },
        "4a3044a241114cdbaa6a7c2c430b354f": {
          "model_module": "@jupyter-widgets/base",
          "model_module_version": "1.2.0",
          "model_name": "LayoutModel",
          "state": {
            "_model_module": "@jupyter-widgets/base",
            "_model_module_version": "1.2.0",
            "_model_name": "LayoutModel",
            "_view_count": null,
            "_view_module": "@jupyter-widgets/base",
            "_view_module_version": "1.2.0",
            "_view_name": "LayoutView",
            "align_content": null,
            "align_items": null,
            "align_self": null,
            "border": null,
            "bottom": null,
            "display": null,
            "flex": null,
            "flex_flow": null,
            "grid_area": null,
            "grid_auto_columns": null,
            "grid_auto_flow": null,
            "grid_auto_rows": null,
            "grid_column": null,
            "grid_gap": null,
            "grid_row": null,
            "grid_template_areas": null,
            "grid_template_columns": null,
            "grid_template_rows": null,
            "height": null,
            "justify_content": null,
            "justify_items": null,
            "left": null,
            "margin": null,
            "max_height": null,
            "max_width": null,
            "min_height": null,
            "min_width": null,
            "object_fit": null,
            "object_position": null,
            "order": null,
            "overflow": null,
            "overflow_x": null,
            "overflow_y": null,
            "padding": null,
            "right": null,
            "top": null,
            "visibility": null,
            "width": null
          }
        },
        "683f21bfbef44b9b99251e0db0f37000": {
          "model_module": "@jupyter-widgets/controls",
          "model_module_version": "1.5.0",
          "model_name": "HBoxModel",
          "state": {
            "_dom_classes": [],
            "_model_module": "@jupyter-widgets/controls",
            "_model_module_version": "1.5.0",
            "_model_name": "HBoxModel",
            "_view_count": null,
            "_view_module": "@jupyter-widgets/controls",
            "_view_module_version": "1.5.0",
            "_view_name": "HBoxView",
            "box_style": "",
            "children": [
              "IPY_MODEL_bba5183a494644b1a54c701540adef36",
              "IPY_MODEL_d39feaa36fc848e6be80e33b05e79cac",
              "IPY_MODEL_e3aa89f1969541ff989621aa0e4272a7"
            ],
            "layout": "IPY_MODEL_4a3044a241114cdbaa6a7c2c430b354f"
          }
        },
        "837abe8d0c15442290a48e4ac8c9cac4": {
          "model_module": "@jupyter-widgets/controls",
          "model_module_version": "1.5.0",
          "model_name": "ProgressStyleModel",
          "state": {
            "_model_module": "@jupyter-widgets/controls",
            "_model_module_version": "1.5.0",
            "_model_name": "ProgressStyleModel",
            "_view_count": null,
            "_view_module": "@jupyter-widgets/base",
            "_view_module_version": "1.2.0",
            "_view_name": "StyleView",
            "bar_color": null,
            "description_width": ""
          }
        },
        "aff3b3aa75c145408aad1bcfa183c782": {
          "model_module": "@jupyter-widgets/base",
          "model_module_version": "1.2.0",
          "model_name": "LayoutModel",
          "state": {
            "_model_module": "@jupyter-widgets/base",
            "_model_module_version": "1.2.0",
            "_model_name": "LayoutModel",
            "_view_count": null,
            "_view_module": "@jupyter-widgets/base",
            "_view_module_version": "1.2.0",
            "_view_name": "LayoutView",
            "align_content": null,
            "align_items": null,
            "align_self": null,
            "border": null,
            "bottom": null,
            "display": null,
            "flex": null,
            "flex_flow": null,
            "grid_area": null,
            "grid_auto_columns": null,
            "grid_auto_flow": null,
            "grid_auto_rows": null,
            "grid_column": null,
            "grid_gap": null,
            "grid_row": null,
            "grid_template_areas": null,
            "grid_template_columns": null,
            "grid_template_rows": null,
            "height": null,
            "justify_content": null,
            "justify_items": null,
            "left": null,
            "margin": null,
            "max_height": null,
            "max_width": null,
            "min_height": null,
            "min_width": null,
            "object_fit": null,
            "object_position": null,
            "order": null,
            "overflow": null,
            "overflow_x": null,
            "overflow_y": null,
            "padding": null,
            "right": null,
            "top": null,
            "visibility": null,
            "width": null
          }
        },
        "bba5183a494644b1a54c701540adef36": {
          "model_module": "@jupyter-widgets/controls",
          "model_module_version": "1.5.0",
          "model_name": "HTMLModel",
          "state": {
            "_dom_classes": [],
            "_model_module": "@jupyter-widgets/controls",
            "_model_module_version": "1.5.0",
            "_model_name": "HTMLModel",
            "_view_count": null,
            "_view_module": "@jupyter-widgets/controls",
            "_view_module_version": "1.5.0",
            "_view_name": "HTMLView",
            "description": "",
            "description_tooltip": null,
            "layout": "IPY_MODEL_12e4db135ae44f62a9e146bd1b83816d",
            "placeholder": "​",
            "style": "IPY_MODEL_41a74a90eb3c4123b14051f6e23cf11c",
            "value": "Loading checkpoint shards: 100%"
          }
        },
        "d39feaa36fc848e6be80e33b05e79cac": {
          "model_module": "@jupyter-widgets/controls",
          "model_module_version": "1.5.0",
          "model_name": "FloatProgressModel",
          "state": {
            "_dom_classes": [],
            "_model_module": "@jupyter-widgets/controls",
            "_model_module_version": "1.5.0",
            "_model_name": "FloatProgressModel",
            "_view_count": null,
            "_view_module": "@jupyter-widgets/controls",
            "_view_module_version": "1.5.0",
            "_view_name": "ProgressView",
            "bar_style": "success",
            "description": "",
            "description_tooltip": null,
            "layout": "IPY_MODEL_4291c3d69fe644bfa08b8cad092303cc",
            "max": 2,
            "min": 0,
            "orientation": "horizontal",
            "style": "IPY_MODEL_837abe8d0c15442290a48e4ac8c9cac4",
            "value": 2
          }
        },
        "d8d1b8dbef664f488e01d5299647a102": {
          "model_module": "@jupyter-widgets/controls",
          "model_module_version": "1.5.0",
          "model_name": "DescriptionStyleModel",
          "state": {
            "_model_module": "@jupyter-widgets/controls",
            "_model_module_version": "1.5.0",
            "_model_name": "DescriptionStyleModel",
            "_view_count": null,
            "_view_module": "@jupyter-widgets/base",
            "_view_module_version": "1.2.0",
            "_view_name": "StyleView",
            "description_width": ""
          }
        },
        "e3aa89f1969541ff989621aa0e4272a7": {
          "model_module": "@jupyter-widgets/controls",
          "model_module_version": "1.5.0",
          "model_name": "HTMLModel",
          "state": {
            "_dom_classes": [],
            "_model_module": "@jupyter-widgets/controls",
            "_model_module_version": "1.5.0",
            "_model_name": "HTMLModel",
            "_view_count": null,
            "_view_module": "@jupyter-widgets/controls",
            "_view_module_version": "1.5.0",
            "_view_name": "HTMLView",
            "description": "",
            "description_tooltip": null,
            "layout": "IPY_MODEL_aff3b3aa75c145408aad1bcfa183c782",
            "placeholder": "​",
            "style": "IPY_MODEL_d8d1b8dbef664f488e01d5299647a102",
            "value": " 2/2 [00:30&lt;00:00, 15.27s/it]"
          }
        }
      }
    }
  },
  "nbformat": 4,
  "nbformat_minor": 0
}
