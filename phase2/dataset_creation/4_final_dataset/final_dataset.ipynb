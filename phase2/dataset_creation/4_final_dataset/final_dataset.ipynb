{
 "cells": [
  {
   "cell_type": "code",
   "execution_count": 1,
   "metadata": {},
   "outputs": [],
   "source": [
    "import json\n",
    "import csv\n",
    "import os"
   ]
  },
  {
   "cell_type": "markdown",
   "metadata": {},
   "source": [
    "## Writing to huggingface compatibale format"
   ]
  },
  {
   "cell_type": "code",
   "execution_count": null,
   "metadata": {},
   "outputs": [],
   "source": [
    "\n",
    "json_folder = 'labels'\n",
    "csv_file = 'output.csv'\n",
    "\n",
    "json_files = [f for f in os.listdir(json_folder) if f.endswith('.json')]\n",
    "\n",
    "with open(csv_file, 'w', newline='') as csvfile:\n",
    "    csv_writer = csv.writer(csvfile)\n",
    "\n",
    "    csv_writer.writerow(['filename', 'json_string'])\n",
    "\n",
    "    for json_file in json_files:\n",
    "        file_path = os.path.join(json_folder, json_file)\n",
    "\n",
    "        with open(file_path, 'r') as f:\n",
    "            json_data = json.load(f)\n",
    "            json_string = json.dumps\n",
    "\n",
    "            csv_writer.writerow([json_file, json_string])"
   ]
  },
  {
   "cell_type": "code",
   "execution_count": 1,
   "metadata": {},
   "outputs": [],
   "source": [
    "from datasets import load_dataset"
   ]
  },
  {
   "cell_type": "code",
   "execution_count": 4,
   "metadata": {},
   "outputs": [
    {
     "data": {
      "application/vnd.jupyter.widget-view+json": {
       "model_id": "262cfa30f12b46158ba5f5d37a6685a1",
       "version_major": 2,
       "version_minor": 0
      },
      "text/plain": [
       "Resolving data files:   0%|          | 0/220 [00:00<?, ?it/s]"
      ]
     },
     "metadata": {},
     "output_type": "display_data"
    },
    {
     "data": {
      "application/vnd.jupyter.widget-view+json": {
       "model_id": "a9372ef1d70849cda719e41e54412f3f",
       "version_major": 2,
       "version_minor": 0
      },
      "text/plain": [
       "Downloading data:   0%|          | 0/220 [00:00<?, ?files/s]"
      ]
     },
     "metadata": {},
     "output_type": "display_data"
    },
    {
     "data": {
      "application/vnd.jupyter.widget-view+json": {
       "model_id": "1b4abb35af1e4c448183adfa53fd0920",
       "version_major": 2,
       "version_minor": 0
      },
      "text/plain": [
       "Generating train split: 0 examples [00:00, ? examples/s]"
      ]
     },
     "metadata": {},
     "output_type": "display_data"
    }
   ],
   "source": [
    "dataset = load_dataset('imagefolder', data_dir='diagram2graph')"
   ]
  },
  {
   "cell_type": "code",
   "execution_count": 8,
   "metadata": {},
   "outputs": [
    {
     "data": {
      "text/plain": [
       "DatasetDict({\n",
       "    train: Dataset({\n",
       "        features: ['image', ' text'],\n",
       "        num_rows: 219\n",
       "    })\n",
       "})"
      ]
     },
     "execution_count": 8,
     "metadata": {},
     "output_type": "execute_result"
    }
   ],
   "source": [
    "dataset"
   ]
  },
  {
   "cell_type": "code",
   "execution_count": 6,
   "metadata": {},
   "outputs": [
    {
     "data": {
      "text/plain": [
       "{'image': <PIL.PngImagePlugin.PngImageFile image mode=RGBA size=487x627>,\n",
       " ' text': '{\"nodes\": [{\"id\": \"1\", \"type_of_node\": \"start\", \"shape\": \"start_event\", \"label\": \"Start\"}, {\"id\": \"2\", \"type_of_node\": \"process\", \"shape\": \"task\", \"label\": \"Check needs for project\"}, {\"id\": \"3\", \"type_of_node\": \"decision\", \"shape\": \"gateway\", \"label\": \"Is project well-defined?\"}, {\"id\": \"4\", \"type_of_node\": \"process\", \"shape\": \"task\", \"label\": \"Re-evaluate needs\"}, {\"id\": \"5\", \"type_of_node\": \"process\", \"shape\": \"task\", \"label\": \"Build prototype\"}, {\"id\": \"6\", \"type_of_node\": \"terminator\", \"shape\": \"end_event\", \"label\": \"END\"}], \"edges\": [{\"source\": \"1\", \"source_type\": \"start\", \"source_label\": \"Start\", \"target\": \"2\", \"target_type\": \"process\", \"target_label\": \"Check needs for project\", \"type_of_edge\": \"solid\", \"relationship_value\": \"\", \"relationship_type\": \"follows\"}, {\"source\": \"2\", \"source_type\": \"process\", \"source_label\": \"Check needs for project\", \"target\": \"3\", \"target_type\": \"decision\", \"target_label\": \"Is project well-defined?\", \"type_of_edge\": \"solid\", \"relationship_value\": \"\", \"relationship_type\": \"follows\"}, {\"source\": \"3\", \"source_type\": \"decision\", \"source_label\": \"Is project well-defined?\", \"target\": \"4\", \"target_type\": \"process\", \"target_label\": \"Re-evaluate needs\", \"type_of_edge\": \"solid\", \"relationship_value\": \"No\", \"relationship_type\": \"follows\"}, {\"source\": \"3\", \"source_type\": \"decision\", \"source_label\": \"Is project well-defined?\", \"target\": \"5\", \"target_type\": \"process\", \"target_label\": \"Build prototype\", \"type_of_edge\": \"solid\", \"relationship_value\": \"Yes\", \"relationship_type\": \"follows\"}, {\"source\": \"4\", \"source_type\": \"process\", \"source_label\": \"Re-evaluate needs\", \"target\": \"5\", \"target_type\": \"process\", \"target_label\": \"Build prototype\", \"type_of_edge\": \"solid\", \"relationship_value\": \"\", \"relationship_type\": \"follows\"}, {\"source\": \"5\", \"source_type\": \"process\", \"source_label\": \"Build prototype\", \"target\": \"6\", \"target_type\": \"terminator\", \"target_label\": \"END\", \"type_of_edge\": \"solid\", \"relationship_value\": \"\", \"relationship_type\": \"follows\"}]}'}"
      ]
     },
     "execution_count": 6,
     "metadata": {},
     "output_type": "execute_result"
    }
   ],
   "source": [
    "dataset['train'][0]"
   ]
  },
  {
   "cell_type": "code",
   "execution_count": 13,
   "metadata": {},
   "outputs": [],
   "source": [
    "split_dataset = dataset['train'].train_test_split(test_size=0.09, seed=42)"
   ]
  },
  {
   "cell_type": "code",
   "execution_count": 14,
   "metadata": {},
   "outputs": [
    {
     "data": {
      "text/plain": [
       "DatasetDict({\n",
       "    train: Dataset({\n",
       "        features: ['image', ' text'],\n",
       "        num_rows: 199\n",
       "    })\n",
       "    test: Dataset({\n",
       "        features: ['image', ' text'],\n",
       "        num_rows: 20\n",
       "    })\n",
       "})"
      ]
     },
     "execution_count": 14,
     "metadata": {},
     "output_type": "execute_result"
    }
   ],
   "source": [
    "split_dataset"
   ]
  },
  {
   "cell_type": "code",
   "execution_count": 17,
   "metadata": {},
   "outputs": [
    {
     "data": {
      "application/vnd.jupyter.widget-view+json": {
       "model_id": "3e3a1ea7db424076a457282529f6f50f",
       "version_major": 2,
       "version_minor": 0
      },
      "text/plain": [
       "Uploading the dataset shards:   0%|          | 0/1 [00:00<?, ?it/s]"
      ]
     },
     "metadata": {},
     "output_type": "display_data"
    },
    {
     "data": {
      "application/vnd.jupyter.widget-view+json": {
       "model_id": "3b769d8de44343789a700b2e69950884",
       "version_major": 2,
       "version_minor": 0
      },
      "text/plain": [
       "Map:   0%|          | 0/199 [00:00<?, ? examples/s]"
      ]
     },
     "metadata": {},
     "output_type": "display_data"
    },
    {
     "data": {
      "application/vnd.jupyter.widget-view+json": {
       "model_id": "609c0ca8f622400ba66f8fefdf6598be",
       "version_major": 2,
       "version_minor": 0
      },
      "text/plain": [
       "Creating parquet from Arrow format:   0%|          | 0/2 [00:00<?, ?ba/s]"
      ]
     },
     "metadata": {},
     "output_type": "display_data"
    },
    {
     "data": {
      "application/vnd.jupyter.widget-view+json": {
       "model_id": "4613234396c14144a893d0f0498c7695",
       "version_major": 2,
       "version_minor": 0
      },
      "text/plain": [
       "Uploading the dataset shards:   0%|          | 0/1 [00:00<?, ?it/s]"
      ]
     },
     "metadata": {},
     "output_type": "display_data"
    },
    {
     "data": {
      "application/vnd.jupyter.widget-view+json": {
       "model_id": "63ad6a135e9a48928ca6bf8b25013e73",
       "version_major": 2,
       "version_minor": 0
      },
      "text/plain": [
       "Map:   0%|          | 0/20 [00:00<?, ? examples/s]"
      ]
     },
     "metadata": {},
     "output_type": "display_data"
    },
    {
     "data": {
      "application/vnd.jupyter.widget-view+json": {
       "model_id": "0fc68a3ee7f4418295cb42915ac5c184",
       "version_major": 2,
       "version_minor": 0
      },
      "text/plain": [
       "Creating parquet from Arrow format:   0%|          | 0/1 [00:00<?, ?ba/s]"
      ]
     },
     "metadata": {},
     "output_type": "display_data"
    },
    {
     "data": {
      "text/plain": [
       "CommitInfo(commit_url='https://huggingface.co/datasets/mohammedsafvan/diagramJSON/commit/5e9b5cc372f3509973a432b9ce49c9a82aa70d86', commit_message='Upload dataset', commit_description='', oid='5e9b5cc372f3509973a432b9ce49c9a82aa70d86', pr_url=None, repo_url=RepoUrl('https://huggingface.co/datasets/mohammedsafvan/diagramJSON', endpoint='https://huggingface.co', repo_type='dataset', repo_id='mohammedsafvan/diagramJSON'), pr_revision=None, pr_num=None)"
      ]
     },
     "execution_count": 17,
     "metadata": {},
     "output_type": "execute_result"
    }
   ],
   "source": [
    "split_dataset.push_to_hub(\"mohammedsafvan/diagramJSON\", private=True)"
   ]
  },
  {
   "cell_type": "code",
   "execution_count": 32,
   "metadata": {},
   "outputs": [
    {
     "data": {
      "application/vnd.jupyter.widget-view+json": {
       "model_id": "fb532956a09c469a9467a3e572c23219",
       "version_major": 2,
       "version_minor": 0
      },
      "text/plain": [
       "README.md:   0%|          | 0.00/412 [00:00<?, ?B/s]"
      ]
     },
     "metadata": {},
     "output_type": "display_data"
    },
    {
     "data": {
      "application/vnd.jupyter.widget-view+json": {
       "model_id": "95b48e46f5774dadbeb9166175391890",
       "version_major": 2,
       "version_minor": 0
      },
      "text/plain": [
       "train-00000-of-00001.parquet:   0%|          | 0.00/11.7M [00:00<?, ?B/s]"
      ]
     },
     "metadata": {},
     "output_type": "display_data"
    },
    {
     "data": {
      "application/vnd.jupyter.widget-view+json": {
       "model_id": "ec4184d7c99a475b85ad6dd119b5451a",
       "version_major": 2,
       "version_minor": 0
      },
      "text/plain": [
       "test-00000-of-00001.parquet:   0%|          | 0.00/1.20M [00:00<?, ?B/s]"
      ]
     },
     "metadata": {},
     "output_type": "display_data"
    },
    {
     "data": {
      "application/vnd.jupyter.widget-view+json": {
       "model_id": "b28414e3fca64d5980991b6f76684dc8",
       "version_major": 2,
       "version_minor": 0
      },
      "text/plain": [
       "Generating train split:   0%|          | 0/199 [00:00<?, ? examples/s]"
      ]
     },
     "metadata": {},
     "output_type": "display_data"
    },
    {
     "data": {
      "application/vnd.jupyter.widget-view+json": {
       "model_id": "17f2bb296d9943c18d0d0800ca08c0c8",
       "version_major": 2,
       "version_minor": 0
      },
      "text/plain": [
       "Generating test split:   0%|          | 0/20 [00:00<?, ? examples/s]"
      ]
     },
     "metadata": {},
     "output_type": "display_data"
    }
   ],
   "source": [
    "dd = load_dataset('mohammedsafvan/diagramJSON')"
   ]
  },
  {
   "cell_type": "code",
   "execution_count": 33,
   "metadata": {},
   "outputs": [
    {
     "data": {
      "text/plain": [
       "DatasetDict({\n",
       "    train: Dataset({\n",
       "        features: ['image', 'text'],\n",
       "        num_rows: 199\n",
       "    })\n",
       "    test: Dataset({\n",
       "        features: ['image', 'text'],\n",
       "        num_rows: 20\n",
       "    })\n",
       "})"
      ]
     },
     "execution_count": 33,
     "metadata": {},
     "output_type": "execute_result"
    }
   ],
   "source": [
    "dd"
   ]
  },
  {
   "cell_type": "code",
   "execution_count": 34,
   "metadata": {},
   "outputs": [
    {
     "data": {
      "image/png": "[encoded data removed]",
      "text/plain": [
       "<PIL.PngImagePlugin.PngImageFile image mode=RGBA size=504x271>"
      ]
     },
     "execution_count": 34,
     "metadata": {},
     "output_type": "execute_result"
    }
   ],
   "source": [
    "from PIL import Image\n",
    "dd['train'][0]['image']\n"
   ]
  },
  {
   "cell_type": "code",
   "execution_count": 37,
   "metadata": {},
   "outputs": [
    {
     "data": {
      "text/plain": [
       "{'nodes': [{'id': '1',\n",
       "   'type_of_node': 'start',\n",
       "   'shape': 'start_event',\n",
       "   'label': 'Start'},\n",
       "  {'id': '2',\n",
       "   'type_of_node': 'decision',\n",
       "   'shape': 'gateway',\n",
       "   'label': 'Make decision'},\n",
       "  {'id': '3', 'type_of_node': 'process', 'shape': 'task', 'label': 'Do 1'},\n",
       "  {'id': '4', 'type_of_node': 'process', 'shape': 'task', 'label': 'Do 2'},\n",
       "  {'id': '5', 'type_of_node': 'process', 'shape': 'task', 'label': 'Do 3'},\n",
       "  {'id': '6',\n",
       "   'type_of_node': 'terminator',\n",
       "   'shape': 'end_event',\n",
       "   'label': 'Stop'}],\n",
       " 'edges': [{'source': '1',\n",
       "   'source_type': 'start',\n",
       "   'source_label': 'Start',\n",
       "   'target': '2',\n",
       "   'target_type': 'decision',\n",
       "   'target_label': 'Make decision',\n",
       "   'type_of_edge': 'solid',\n",
       "   'relationship_value': '',\n",
       "   'relationship_type': 'follows'},\n",
       "  {'source': '2',\n",
       "   'source_type': 'decision',\n",
       "   'source_label': 'Make decision',\n",
       "   'target': '3',\n",
       "   'target_type': 'process',\n",
       "   'target_label': 'Do 1',\n",
       "   'type_of_edge': 'solid',\n",
       "   'relationship_value': 'outcome 1',\n",
       "   'relationship_type': 'branches'},\n",
       "  {'source': '2',\n",
       "   'source_type': 'decision',\n",
       "   'source_label': 'Make decision',\n",
       "   'target': '4',\n",
       "   'target_type': 'process',\n",
       "   'target_label': 'Do 2',\n",
       "   'type_of_edge': 'solid',\n",
       "   'relationship_value': 'outcome 2',\n",
       "   'relationship_type': 'branches'},\n",
       "  {'source': '3',\n",
       "   'source_type': 'process',\n",
       "   'source_label': 'Do 1',\n",
       "   'target': '5',\n",
       "   'target_type': 'process',\n",
       "   'target_label': 'Do 3',\n",
       "   'type_of_edge': 'solid',\n",
       "   'relationship_value': '',\n",
       "   'relationship_type': 'follows'},\n",
       "  {'source': '4',\n",
       "   'source_type': 'process',\n",
       "   'source_label': 'Do 2',\n",
       "   'target': '5',\n",
       "   'target_type': 'process',\n",
       "   'target_label': 'Do 3',\n",
       "   'type_of_edge': 'solid',\n",
       "   'relationship_value': '',\n",
       "   'relationship_type': 'follows'},\n",
       "  {'source': '5',\n",
       "   'source_type': 'process',\n",
       "   'source_label': 'Do 3',\n",
       "   'target': '6',\n",
       "   'target_type': 'terminator',\n",
       "   'target_label': 'Stop',\n",
       "   'type_of_edge': 'solid',\n",
       "   'relationship_value': '',\n",
       "   'relationship_type': 'follows'}]}"
      ]
     },
     "execution_count": 37,
     "metadata": {},
     "output_type": "execute_result"
    }
   ],
   "source": [
    "import json\n",
    "json.loads(dd['train'][0]['text'])"
   ]
  },
  {
   "cell_type": "code",
   "execution_count": 30,
   "metadata": {},
   "outputs": [
    {
     "data": {
      "text/plain": [
       "DatasetDict({\n",
       "    train: Dataset({\n",
       "        features: ['image', 'text'],\n",
       "        num_rows: 199\n",
       "    })\n",
       "    test: Dataset({\n",
       "        features: ['image', 'text'],\n",
       "        num_rows: 20\n",
       "    })\n",
       "})"
      ]
     },
     "execution_count": 30,
     "metadata": {},
     "output_type": "execute_result"
    }
   ],
   "source": [
    "dd"
   ]
  },
  {
   "cell_type": "code",
   "execution_count": 31,
   "metadata": {},
   "outputs": [
    {
     "data": {
      "application/vnd.jupyter.widget-view+json": {
       "model_id": "27eaae5db4034b2592c20f117bc6372d",
       "version_major": 2,
       "version_minor": 0
      },
      "text/plain": [
       "Uploading the dataset shards:   0%|          | 0/1 [00:00<?, ?it/s]"
      ]
     },
     "metadata": {},
     "output_type": "display_data"
    },
    {
     "data": {
      "application/vnd.jupyter.widget-view+json": {
       "model_id": "3e98816f71cf4c7d8d03bd5ba4b3094b",
       "version_major": 2,
       "version_minor": 0
      },
      "text/plain": [
       "Map:   0%|          | 0/199 [00:00<?, ? examples/s]"
      ]
     },
     "metadata": {},
     "output_type": "display_data"
    },
    {
     "data": {
      "application/vnd.jupyter.widget-view+json": {
       "model_id": "70e428239e324ad9a77a181711ecfca3",
       "version_major": 2,
       "version_minor": 0
      },
      "text/plain": [
       "Creating parquet from Arrow format:   0%|          | 0/2 [00:00<?, ?ba/s]"
      ]
     },
     "metadata": {},
     "output_type": "display_data"
    },
    {
     "data": {
      "application/vnd.jupyter.widget-view+json": {
       "model_id": "390f352015704621ace3ea78bdb16ebc",
       "version_major": 2,
       "version_minor": 0
      },
      "text/plain": [
       "Uploading the dataset shards:   0%|          | 0/1 [00:00<?, ?it/s]"
      ]
     },
     "metadata": {},
     "output_type": "display_data"
    },
    {
     "data": {
      "application/vnd.jupyter.widget-view+json": {
       "model_id": "cffd5401ffb34911831ee919bcb6cb3d",
       "version_major": 2,
       "version_minor": 0
      },
      "text/plain": [
       "Map:   0%|          | 0/20 [00:00<?, ? examples/s]"
      ]
     },
     "metadata": {},
     "output_type": "display_data"
    },
    {
     "data": {
      "application/vnd.jupyter.widget-view+json": {
       "model_id": "b2ca94bd41804b089c8882b35f0accf2",
       "version_major": 2,
       "version_minor": 0
      },
      "text/plain": [
       "Creating parquet from Arrow format:   0%|          | 0/1 [00:00<?, ?ba/s]"
      ]
     },
     "metadata": {},
     "output_type": "display_data"
    },
    {
     "data": {
      "text/plain": [
       "CommitInfo(commit_url='https://huggingface.co/datasets/mohammedsafvan/diagramJSON/commit/058e32f0de354613ae72392111470c2a73cc4978', commit_message='Upload dataset', commit_description='', oid='058e32f0de354613ae72392111470c2a73cc4978', pr_url=None, repo_url=RepoUrl('https://huggingface.co/datasets/mohammedsafvan/diagramJSON', endpoint='https://huggingface.co', repo_type='dataset', repo_id='mohammedsafvan/diagramJSON'), pr_revision=None, pr_num=None)"
      ]
     },
     "execution_count": 31,
     "metadata": {},
     "output_type": "execute_result"
    }
   ],
   "source": [
    "dd.push_to_hub(\"mohammedsafvan/diagramJSON\", private=True)"
   ]
  },
  {
   "cell_type": "code",
   "execution_count": null,
   "metadata": {},
   "outputs": [],
   "source": []
  }
 ],
 "metadata": {
  "kernelspec": {
   "display_name": ".venv",
   "language": "python",
   "name": "python3"
  },
  "language_info": {
   "codemirror_mode": {
    "name": "ipython",
    "version": 3
   },
   "file_extension": ".py",
   "mimetype": "text/x-python",
   "name": "python",
   "nbconvert_exporter": "python",
   "pygments_lexer": "ipython3",
   "version": "3.12.3"
  }
 },
 "nbformat": 4,
 "nbformat_minor": 2
}
